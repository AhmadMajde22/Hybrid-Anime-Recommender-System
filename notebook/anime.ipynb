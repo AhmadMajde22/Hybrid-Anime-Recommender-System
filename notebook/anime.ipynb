{
 "cells": [
  {
   "cell_type": "code",
   "execution_count": 4,
   "id": "04d02518",
   "metadata": {},
   "outputs": [],
   "source": [
    "import pandas as pd\n",
    "import numpy as np\n",
    "import matplotlib.pyplot as plt\n",
    "\n",
    "import tensorflow as tf\n",
    "from tensorflow.keras import  layers\n",
    "from tensorflow.keras.models import Model\n",
    "from tensorflow.keras.optimizers import Adam\n",
    "from tensorflow.keras.layers import Activation,BatchNormalization,Input,Embedding,Dot,Dense,Flatten\n",
    "from tensorflow.keras.callbacks import ModelCheckpoint,LearningRateScheduler,TensorBoard,EarlyStopping\n",
    "import os\n",
    "from wordcloud import WordCloud\n",
    "%matplotlib inline"
   ]
  },
  {
   "cell_type": "markdown",
   "id": "8064ed9a",
   "metadata": {},
   "source": [
    "### Read Anime List Csv File"
   ]
  },
  {
   "cell_type": "code",
   "execution_count": 5,
   "id": "4a9e3635",
   "metadata": {},
   "outputs": [
    {
     "name": "stdout",
     "output_type": "stream",
     "text": [
      "Looking for file in: E:\\CODES\\MLOps_Udemy\\Section_3_Hybrid_Anime_Recommender_System\\Content\\artifacts\\raw\n"
     ]
    }
   ],
   "source": [
    "INPUT_DIR = r\"E:\\CODES\\MLOps_Udemy\\Section_3_Hybrid_Anime_Recommender_System\\Content\\artifacts\\raw\"\n",
    "print(f\"Looking for file in: {INPUT_DIR}\")"
   ]
  },
  {
   "cell_type": "code",
   "execution_count": 6,
   "id": "3f8c5849",
   "metadata": {},
   "outputs": [],
   "source": [
    "file_path = os.path.join(INPUT_DIR, \"animelist.csv\")\n",
    "if not os.path.exists(file_path):\n",
    "    print(f\"Error: The file 'animelist.csv' does not exist in {INPUT_DIR}\")\n",
    "    print(\"Please make sure to place the animelist.csv file in the correct directory\")\n",
    "else:\n",
    "    rating_df = pd.read_csv(file_path, usecols=['user_id', 'anime_id', 'rating'])"
   ]
  },
  {
   "cell_type": "code",
   "execution_count": 7,
   "id": "396265ff",
   "metadata": {},
   "outputs": [
    {
     "data": {
      "text/html": [
       "<div>\n",
       "<style scoped>\n",
       "    .dataframe tbody tr th:only-of-type {\n",
       "        vertical-align: middle;\n",
       "    }\n",
       "\n",
       "    .dataframe tbody tr th {\n",
       "        vertical-align: top;\n",
       "    }\n",
       "\n",
       "    .dataframe thead th {\n",
       "        text-align: right;\n",
       "    }\n",
       "</style>\n",
       "<table border=\"1\" class=\"dataframe\">\n",
       "  <thead>\n",
       "    <tr style=\"text-align: right;\">\n",
       "      <th></th>\n",
       "      <th>user_id</th>\n",
       "      <th>anime_id</th>\n",
       "      <th>rating</th>\n",
       "    </tr>\n",
       "  </thead>\n",
       "  <tbody>\n",
       "    <tr>\n",
       "      <th>0</th>\n",
       "      <td>0</td>\n",
       "      <td>67</td>\n",
       "      <td>9</td>\n",
       "    </tr>\n",
       "    <tr>\n",
       "      <th>1</th>\n",
       "      <td>0</td>\n",
       "      <td>6702</td>\n",
       "      <td>7</td>\n",
       "    </tr>\n",
       "    <tr>\n",
       "      <th>2</th>\n",
       "      <td>0</td>\n",
       "      <td>242</td>\n",
       "      <td>10</td>\n",
       "    </tr>\n",
       "    <tr>\n",
       "      <th>3</th>\n",
       "      <td>0</td>\n",
       "      <td>4898</td>\n",
       "      <td>0</td>\n",
       "    </tr>\n",
       "    <tr>\n",
       "      <th>4</th>\n",
       "      <td>0</td>\n",
       "      <td>21</td>\n",
       "      <td>10</td>\n",
       "    </tr>\n",
       "  </tbody>\n",
       "</table>\n",
       "</div>"
      ],
      "text/plain": [
       "   user_id  anime_id  rating\n",
       "0        0        67       9\n",
       "1        0      6702       7\n",
       "2        0       242      10\n",
       "3        0      4898       0\n",
       "4        0        21      10"
      ]
     },
     "execution_count": 7,
     "metadata": {},
     "output_type": "execute_result"
    }
   ],
   "source": [
    "rating_df.head()"
   ]
  },
  {
   "cell_type": "code",
   "execution_count": 8,
   "id": "3c04654a",
   "metadata": {},
   "outputs": [
    {
     "data": {
      "text/plain": [
       "109224747"
      ]
     },
     "execution_count": 8,
     "metadata": {},
     "output_type": "execute_result"
    }
   ],
   "source": [
    "len(rating_df)"
   ]
  },
  {
   "cell_type": "markdown",
   "id": "059072b6",
   "metadata": {},
   "source": [
    "### Data Preprocessing"
   ]
  },
  {
   "cell_type": "code",
   "execution_count": 9,
   "id": "653c4ea4",
   "metadata": {},
   "outputs": [],
   "source": [
    "n_ratings = rating_df['user_id'].value_counts()"
   ]
  },
  {
   "cell_type": "code",
   "execution_count": 10,
   "id": "2f928cd9",
   "metadata": {},
   "outputs": [
    {
     "data": {
      "text/plain": [
       "user_id\n",
       "20807     17546\n",
       "140590    17534\n",
       "281232    17533\n",
       "147331    17526\n",
       "131988    17520\n",
       "          ...  \n",
       "259248        1\n",
       "259247        1\n",
       "345120        1\n",
       "287410        1\n",
       "307120        1\n",
       "Name: count, Length: 325770, dtype: int64"
      ]
     },
     "execution_count": 10,
     "metadata": {},
     "output_type": "execute_result"
    }
   ],
   "source": [
    "n_ratings"
   ]
  },
  {
   "cell_type": "code",
   "execution_count": 11,
   "id": "1c86c011",
   "metadata": {},
   "outputs": [],
   "source": [
    "rating_df = rating_df[rating_df[\"user_id\"].isin(n_ratings[n_ratings >= 400].index)]"
   ]
  },
  {
   "cell_type": "code",
   "execution_count": 12,
   "id": "ddd442c9",
   "metadata": {},
   "outputs": [
    {
     "data": {
      "text/plain": [
       "71418114"
      ]
     },
     "execution_count": 12,
     "metadata": {},
     "output_type": "execute_result"
    }
   ],
   "source": [
    "len(rating_df)"
   ]
  },
  {
   "cell_type": "code",
   "execution_count": 13,
   "id": "1a1cc452",
   "metadata": {},
   "outputs": [
    {
     "name": "stdout",
     "output_type": "stream",
     "text": [
      "Min rating: 0, Max rating: 10\n"
     ]
    }
   ],
   "source": [
    "min_rating = min(rating_df[\"rating\"])\n",
    "max_rating = max(rating_df[\"rating\"])\n",
    "print(f\"Min rating: {min_rating}, Max rating: {max_rating}\")"
   ]
  },
  {
   "cell_type": "code",
   "execution_count": 14,
   "id": "5d6465c5",
   "metadata": {},
   "outputs": [
    {
     "name": "stdout",
     "output_type": "stream",
     "text": [
      "Avg rating: 4.047793589172629\n"
     ]
    }
   ],
   "source": [
    "avg_rating = rating_df[\"rating\"].mean()\n",
    "print(f\"Avg rating: {avg_rating}\")"
   ]
  },
  {
   "cell_type": "code",
   "execution_count": 15,
   "id": "4eb75a1a",
   "metadata": {},
   "outputs": [],
   "source": [
    "rating_df['rating'] = rating_df['rating'].apply(lambda x: (x - min_rating) / (max_rating - min_rating)).values.astype(np.float64)"
   ]
  },
  {
   "cell_type": "code",
   "execution_count": 16,
   "id": "5b4f5ea3",
   "metadata": {},
   "outputs": [
    {
     "name": "stdout",
     "output_type": "stream",
     "text": [
      "Min rating: 0.0, Max rating: 1.0\n"
     ]
    }
   ],
   "source": [
    "min_rating = min(rating_df[\"rating\"])\n",
    "max_rating = max(rating_df[\"rating\"])\n",
    "print(f\"Min rating: {min_rating}, Max rating: {max_rating}\")"
   ]
  },
  {
   "cell_type": "code",
   "execution_count": 17,
   "id": "adaf7676",
   "metadata": {},
   "outputs": [
    {
     "name": "stdout",
     "output_type": "stream",
     "text": [
      "Avg rating: 0.4047793589172634\n"
     ]
    }
   ],
   "source": [
    "avg_rating = rating_df[\"rating\"].mean()\n",
    "print(f\"Avg rating: {avg_rating}\")"
   ]
  },
  {
   "cell_type": "code",
   "execution_count": 18,
   "id": "f66988aa",
   "metadata": {},
   "outputs": [
    {
     "data": {
      "text/plain": [
       "1"
      ]
     },
     "execution_count": 18,
     "metadata": {},
     "output_type": "execute_result"
    }
   ],
   "source": [
    "rating_df.duplicated().sum()"
   ]
  },
  {
   "cell_type": "code",
   "execution_count": 19,
   "id": "5fdaba24",
   "metadata": {},
   "outputs": [],
   "source": [
    "rating_df = rating_df.drop_duplicates()"
   ]
  },
  {
   "cell_type": "code",
   "execution_count": 20,
   "id": "aba228bf",
   "metadata": {},
   "outputs": [
    {
     "data": {
      "text/plain": [
       "0"
      ]
     },
     "execution_count": 20,
     "metadata": {},
     "output_type": "execute_result"
    }
   ],
   "source": [
    "rating_df.duplicated().sum()"
   ]
  },
  {
   "cell_type": "code",
   "execution_count": 21,
   "id": "5265e5f5",
   "metadata": {},
   "outputs": [
    {
     "data": {
      "text/plain": [
       "user_id     0\n",
       "anime_id    0\n",
       "rating      0\n",
       "dtype: int64"
      ]
     },
     "execution_count": 21,
     "metadata": {},
     "output_type": "execute_result"
    }
   ],
   "source": [
    "rating_df.isna().sum()"
   ]
  },
  {
   "cell_type": "code",
   "execution_count": 36,
   "id": "67eec064",
   "metadata": {},
   "outputs": [],
   "source": [
    "user_ids = rating_df['user_id'].unique().tolist()\n",
    "user2user_encoded = {x: i for i,x in enumerate(user_ids)}\n",
    "user2user_decoded = {i: x for i,x in enumerate(user_ids)}\n",
    "rating_df[\"user\"] = rating_df[\"user_id\"].map(user2user_encoded)"
   ]
  },
  {
   "cell_type": "code",
   "execution_count": 34,
   "id": "03ffdb08",
   "metadata": {},
   "outputs": [
    {
     "data": {
      "text/plain": [
       "100"
      ]
     },
     "execution_count": 34,
     "metadata": {},
     "output_type": "execute_result"
    }
   ],
   "source": [
    "user2user_encoded[398]"
   ]
  },
  {
   "cell_type": "code",
   "execution_count": 35,
   "id": "4c597a75",
   "metadata": {},
   "outputs": [
    {
     "data": {
      "text/plain": [
       "398"
      ]
     },
     "execution_count": 35,
     "metadata": {},
     "output_type": "execute_result"
    }
   ],
   "source": [
    "user2user_decoded[100]"
   ]
  },
  {
   "cell_type": "code",
   "execution_count": 37,
   "id": "b5333aaf",
   "metadata": {},
   "outputs": [
    {
     "data": {
      "text/html": [
       "<div>\n",
       "<style scoped>\n",
       "    .dataframe tbody tr th:only-of-type {\n",
       "        vertical-align: middle;\n",
       "    }\n",
       "\n",
       "    .dataframe tbody tr th {\n",
       "        vertical-align: top;\n",
       "    }\n",
       "\n",
       "    .dataframe thead th {\n",
       "        text-align: right;\n",
       "    }\n",
       "</style>\n",
       "<table border=\"1\" class=\"dataframe\">\n",
       "  <thead>\n",
       "    <tr style=\"text-align: right;\">\n",
       "      <th></th>\n",
       "      <th>user_id</th>\n",
       "      <th>anime_id</th>\n",
       "      <th>rating</th>\n",
       "      <th>user</th>\n",
       "    </tr>\n",
       "  </thead>\n",
       "  <tbody>\n",
       "    <tr>\n",
       "      <th>213</th>\n",
       "      <td>2</td>\n",
       "      <td>24833</td>\n",
       "      <td>0.0</td>\n",
       "      <td>0</td>\n",
       "    </tr>\n",
       "    <tr>\n",
       "      <th>214</th>\n",
       "      <td>2</td>\n",
       "      <td>235</td>\n",
       "      <td>1.0</td>\n",
       "      <td>0</td>\n",
       "    </tr>\n",
       "    <tr>\n",
       "      <th>215</th>\n",
       "      <td>2</td>\n",
       "      <td>36721</td>\n",
       "      <td>0.0</td>\n",
       "      <td>0</td>\n",
       "    </tr>\n",
       "    <tr>\n",
       "      <th>216</th>\n",
       "      <td>2</td>\n",
       "      <td>40956</td>\n",
       "      <td>0.0</td>\n",
       "      <td>0</td>\n",
       "    </tr>\n",
       "    <tr>\n",
       "      <th>217</th>\n",
       "      <td>2</td>\n",
       "      <td>31933</td>\n",
       "      <td>0.0</td>\n",
       "      <td>0</td>\n",
       "    </tr>\n",
       "  </tbody>\n",
       "</table>\n",
       "</div>"
      ],
      "text/plain": [
       "     user_id  anime_id  rating  user\n",
       "213        2     24833     0.0     0\n",
       "214        2       235     1.0     0\n",
       "215        2     36721     0.0     0\n",
       "216        2     40956     0.0     0\n",
       "217        2     31933     0.0     0"
      ]
     },
     "execution_count": 37,
     "metadata": {},
     "output_type": "execute_result"
    }
   ],
   "source": [
    "rating_df.head()"
   ]
  },
  {
   "cell_type": "code",
   "execution_count": 38,
   "id": "ae66ef5f",
   "metadata": {},
   "outputs": [
    {
     "name": "stdout",
     "output_type": "stream",
     "text": [
      "Number of users: 91641\n"
     ]
    }
   ],
   "source": [
    "n_users = len(user2user_encoded)\n",
    "print(f\"Number of users: {n_users}\")"
   ]
  },
  {
   "cell_type": "code",
   "execution_count": 39,
   "id": "8c9f68bc",
   "metadata": {},
   "outputs": [],
   "source": [
    "anime_ids = rating_df['anime_id'].unique().tolist()\n",
    "anime2anime_encoded = {x: i for i,x in enumerate(anime_ids)}\n",
    "anime2anime_decoded = {i: x for i,x in enumerate(anime_ids)}\n",
    "rating_df[\"anime\"] = rating_df[\"anime_id\"].map(anime2anime_encoded)"
   ]
  },
  {
   "cell_type": "code",
   "execution_count": 41,
   "id": "d6e6b58a",
   "metadata": {},
   "outputs": [
    {
     "data": {
      "text/html": [
       "<div>\n",
       "<style scoped>\n",
       "    .dataframe tbody tr th:only-of-type {\n",
       "        vertical-align: middle;\n",
       "    }\n",
       "\n",
       "    .dataframe tbody tr th {\n",
       "        vertical-align: top;\n",
       "    }\n",
       "\n",
       "    .dataframe thead th {\n",
       "        text-align: right;\n",
       "    }\n",
       "</style>\n",
       "<table border=\"1\" class=\"dataframe\">\n",
       "  <thead>\n",
       "    <tr style=\"text-align: right;\">\n",
       "      <th></th>\n",
       "      <th>user_id</th>\n",
       "      <th>anime_id</th>\n",
       "      <th>rating</th>\n",
       "      <th>user</th>\n",
       "      <th>anime</th>\n",
       "    </tr>\n",
       "  </thead>\n",
       "  <tbody>\n",
       "    <tr>\n",
       "      <th>213</th>\n",
       "      <td>2</td>\n",
       "      <td>24833</td>\n",
       "      <td>0.0</td>\n",
       "      <td>0</td>\n",
       "      <td>0</td>\n",
       "    </tr>\n",
       "    <tr>\n",
       "      <th>214</th>\n",
       "      <td>2</td>\n",
       "      <td>235</td>\n",
       "      <td>1.0</td>\n",
       "      <td>0</td>\n",
       "      <td>1</td>\n",
       "    </tr>\n",
       "    <tr>\n",
       "      <th>215</th>\n",
       "      <td>2</td>\n",
       "      <td>36721</td>\n",
       "      <td>0.0</td>\n",
       "      <td>0</td>\n",
       "      <td>2</td>\n",
       "    </tr>\n",
       "    <tr>\n",
       "      <th>216</th>\n",
       "      <td>2</td>\n",
       "      <td>40956</td>\n",
       "      <td>0.0</td>\n",
       "      <td>0</td>\n",
       "      <td>3</td>\n",
       "    </tr>\n",
       "    <tr>\n",
       "      <th>217</th>\n",
       "      <td>2</td>\n",
       "      <td>31933</td>\n",
       "      <td>0.0</td>\n",
       "      <td>0</td>\n",
       "      <td>4</td>\n",
       "    </tr>\n",
       "  </tbody>\n",
       "</table>\n",
       "</div>"
      ],
      "text/plain": [
       "     user_id  anime_id  rating  user  anime\n",
       "213        2     24833     0.0     0      0\n",
       "214        2       235     1.0     0      1\n",
       "215        2     36721     0.0     0      2\n",
       "216        2     40956     0.0     0      3\n",
       "217        2     31933     0.0     0      4"
      ]
     },
     "execution_count": 41,
     "metadata": {},
     "output_type": "execute_result"
    }
   ],
   "source": [
    "rating_df.head()"
   ]
  },
  {
   "cell_type": "code",
   "execution_count": 40,
   "id": "0b18124a",
   "metadata": {},
   "outputs": [
    {
     "name": "stdout",
     "output_type": "stream",
     "text": [
      "Number of animes: 17560\n"
     ]
    }
   ],
   "source": [
    "n_animes = len(anime2anime_encoded)\n",
    "print(f\"Number of animes: {n_animes}\")"
   ]
  },
  {
   "cell_type": "code",
   "execution_count": 42,
   "id": "1e8e23bc",
   "metadata": {},
   "outputs": [
    {
     "data": {
      "text/html": [
       "<div>\n",
       "<style scoped>\n",
       "    .dataframe tbody tr th:only-of-type {\n",
       "        vertical-align: middle;\n",
       "    }\n",
       "\n",
       "    .dataframe tbody tr th {\n",
       "        vertical-align: top;\n",
       "    }\n",
       "\n",
       "    .dataframe thead th {\n",
       "        text-align: right;\n",
       "    }\n",
       "</style>\n",
       "<table border=\"1\" class=\"dataframe\">\n",
       "  <thead>\n",
       "    <tr style=\"text-align: right;\">\n",
       "      <th></th>\n",
       "      <th>user_id</th>\n",
       "      <th>anime_id</th>\n",
       "      <th>rating</th>\n",
       "      <th>user</th>\n",
       "      <th>anime</th>\n",
       "    </tr>\n",
       "  </thead>\n",
       "  <tbody>\n",
       "    <tr>\n",
       "      <th>0</th>\n",
       "      <td>77277</td>\n",
       "      <td>1894</td>\n",
       "      <td>0.4</td>\n",
       "      <td>19983</td>\n",
       "      <td>797</td>\n",
       "    </tr>\n",
       "    <tr>\n",
       "      <th>1</th>\n",
       "      <td>221403</td>\n",
       "      <td>777</td>\n",
       "      <td>0.9</td>\n",
       "      <td>57395</td>\n",
       "      <td>193</td>\n",
       "    </tr>\n",
       "    <tr>\n",
       "      <th>2</th>\n",
       "      <td>270652</td>\n",
       "      <td>36474</td>\n",
       "      <td>0.8</td>\n",
       "      <td>70189</td>\n",
       "      <td>2052</td>\n",
       "    </tr>\n",
       "    <tr>\n",
       "      <th>3</th>\n",
       "      <td>276964</td>\n",
       "      <td>1089</td>\n",
       "      <td>0.7</td>\n",
       "      <td>71853</td>\n",
       "      <td>2329</td>\n",
       "    </tr>\n",
       "    <tr>\n",
       "      <th>4</th>\n",
       "      <td>99838</td>\n",
       "      <td>31043</td>\n",
       "      <td>1.0</td>\n",
       "      <td>25806</td>\n",
       "      <td>1027</td>\n",
       "    </tr>\n",
       "    <tr>\n",
       "      <th>...</th>\n",
       "      <td>...</td>\n",
       "      <td>...</td>\n",
       "      <td>...</td>\n",
       "      <td>...</td>\n",
       "      <td>...</td>\n",
       "    </tr>\n",
       "    <tr>\n",
       "      <th>71418108</th>\n",
       "      <td>65708</td>\n",
       "      <td>21939</td>\n",
       "      <td>0.0</td>\n",
       "      <td>17011</td>\n",
       "      <td>1397</td>\n",
       "    </tr>\n",
       "    <tr>\n",
       "      <th>71418109</th>\n",
       "      <td>104757</td>\n",
       "      <td>71</td>\n",
       "      <td>0.4</td>\n",
       "      <td>27060</td>\n",
       "      <td>32</td>\n",
       "    </tr>\n",
       "    <tr>\n",
       "      <th>71418110</th>\n",
       "      <td>281232</td>\n",
       "      <td>938</td>\n",
       "      <td>0.0</td>\n",
       "      <td>72994</td>\n",
       "      <td>11024</td>\n",
       "    </tr>\n",
       "    <tr>\n",
       "      <th>71418111</th>\n",
       "      <td>280685</td>\n",
       "      <td>30279</td>\n",
       "      <td>0.7</td>\n",
       "      <td>72843</td>\n",
       "      <td>5080</td>\n",
       "    </tr>\n",
       "    <tr>\n",
       "      <th>71418112</th>\n",
       "      <td>324234</td>\n",
       "      <td>9934</td>\n",
       "      <td>0.0</td>\n",
       "      <td>84209</td>\n",
       "      <td>1399</td>\n",
       "    </tr>\n",
       "  </tbody>\n",
       "</table>\n",
       "<p>71418113 rows × 5 columns</p>\n",
       "</div>"
      ],
      "text/plain": [
       "          user_id  anime_id  rating   user  anime\n",
       "0           77277      1894     0.4  19983    797\n",
       "1          221403       777     0.9  57395    193\n",
       "2          270652     36474     0.8  70189   2052\n",
       "3          276964      1089     0.7  71853   2329\n",
       "4           99838     31043     1.0  25806   1027\n",
       "...           ...       ...     ...    ...    ...\n",
       "71418108    65708     21939     0.0  17011   1397\n",
       "71418109   104757        71     0.4  27060     32\n",
       "71418110   281232       938     0.0  72994  11024\n",
       "71418111   280685     30279     0.7  72843   5080\n",
       "71418112   324234      9934     0.0  84209   1399\n",
       "\n",
       "[71418113 rows x 5 columns]"
      ]
     },
     "execution_count": 42,
     "metadata": {},
     "output_type": "execute_result"
    }
   ],
   "source": [
    "rating_df.sample(frac = 1 ,random_state = 42).reset_index(drop = True)"
   ]
  },
  {
   "cell_type": "code",
   "execution_count": 43,
   "id": "335c572a",
   "metadata": {},
   "outputs": [
    {
     "name": "stdout",
     "output_type": "stream",
     "text": [
      "X shape: (71418113, 2), y shape: (71418113,)\n"
     ]
    }
   ],
   "source": [
    "X = rating_df[[\"user\", \"anime\"]].values\n",
    "y = rating_df[\"rating\"].values\n",
    "print(f\"X shape: {X.shape}, y shape: {y.shape}\")\n"
   ]
  },
  {
   "cell_type": "code",
   "execution_count": 44,
   "id": "fbd98253",
   "metadata": {},
   "outputs": [],
   "source": [
    "test_size = 5000\n",
    "train_indices = rating_df.shape[0] - test_size"
   ]
  },
  {
   "cell_type": "code",
   "execution_count": 45,
   "id": "61956bef",
   "metadata": {},
   "outputs": [],
   "source": [
    "X_train,X_test , y_train,y_test = X[:train_indices],X[train_indices:],y[:train_indices],y[train_indices:]"
   ]
  },
  {
   "cell_type": "code",
   "execution_count": 47,
   "id": "243e5d23",
   "metadata": {},
   "outputs": [
    {
     "data": {
      "text/plain": [
       "((71413113, 2), (5000, 2), (71413113,), (5000,))"
      ]
     },
     "execution_count": 47,
     "metadata": {},
     "output_type": "execute_result"
    }
   ],
   "source": [
    "X_train.shape, X_test.shape, y_train.shape, y_test.shape"
   ]
  },
  {
   "cell_type": "code",
   "execution_count": 48,
   "id": "dd3bbc20",
   "metadata": {},
   "outputs": [
    {
     "data": {
      "text/plain": [
       "(numpy.ndarray, numpy.ndarray, numpy.ndarray, numpy.ndarray)"
      ]
     },
     "execution_count": 48,
     "metadata": {},
     "output_type": "execute_result"
    }
   ],
   "source": [
    "type(X_train), type(X_test), type(y_train), type(y_test)"
   ]
  },
  {
   "cell_type": "code",
   "execution_count": 49,
   "id": "732b857a",
   "metadata": {},
   "outputs": [],
   "source": [
    "X_train_array = [X_train[:,0],X_train[:,1]]\n",
    "X_test_array = [X_test[:,0],X_test[:,1]]"
   ]
  },
  {
   "cell_type": "code",
   "execution_count": 50,
   "id": "f9b06182",
   "metadata": {},
   "outputs": [
    {
     "data": {
      "text/plain": [
       "(list, list, numpy.ndarray, numpy.ndarray)"
      ]
     },
     "execution_count": 50,
     "metadata": {},
     "output_type": "execute_result"
    }
   ],
   "source": [
    "type(X_train_array), type(X_test_array), type(y_train), type(y_test)"
   ]
  },
  {
   "cell_type": "markdown",
   "id": "a524aba8",
   "metadata": {},
   "source": [
    "### Model Architecture"
   ]
  },
  {
   "cell_type": "code",
   "execution_count": null,
   "id": "869a1b5c",
   "metadata": {},
   "outputs": [],
   "source": [
    "def RecommenderNet():\n",
    "    embedding_size = 128\n",
    "\n",
    "    user = Input(name = 'user', shape = [1])\n",
    "    user_embedding = Embedding(name = 'user_embedding',\n",
    "                       input_dim = n_users,\n",
    "                       output_dim = embedding_size)(user)\n",
    "\n",
    "    anime = Input(name = 'anime', shape = [1])\n",
    "    anime_embedding = Embedding(name = 'anime_embedding',\n",
    "                       input_dim = n_animes,\n",
    "                       output_dim = embedding_size)(anime)\n",
    "\n",
    "    #x = Concatenate()([user_embedding, anime_embedding])\n",
    "    x = Dot(name = 'dot_product', normalize = True, axes = 2)([user_embedding, anime_embedding])\n",
    "    x = Flatten()(x)\n",
    "\n",
    "    x = Dense(1, kernel_initializer='he_normal')(x)\n",
    "    x = BatchNormalization()(x)\n",
    "    x = Activation(\"sigmoid\")(x)\n",
    "\n",
    "    model = Model(inputs=[user, anime], outputs=x)\n",
    "    model.compile(loss='binary_crossentropy', metrics=[\"mae\", \"mse\"], optimizer='Adam')\n",
    "\n",
    "    return model\n"
   ]
  },
  {
   "cell_type": "code",
   "execution_count": 71,
   "id": "82c70c0c",
   "metadata": {},
   "outputs": [
    {
     "name": "stdout",
     "output_type": "stream",
     "text": [
      "Model: \"model_3\"\n",
      "__________________________________________________________________________________________________\n",
      " Layer (type)                   Output Shape         Param #     Connected to                     \n",
      "==================================================================================================\n"
     ]
    },
    {
     "name": "stdout",
     "output_type": "stream",
     "text": [
      " user (InputLayer)              [(None, 1)]          0           []                               \n",
      "                                                                                                  \n",
      " anime (InputLayer)             [(None, 1)]          0           []                               \n",
      "                                                                                                  \n",
      " user_embedding (Embedding)     (None, 1, 128)       11730048    ['user[0][0]']                   \n",
      "                                                                                                  \n",
      " anime_embedding (Embedding)    (None, 1, 128)       2247680     ['anime[0][0]']                  \n",
      "                                                                                                  \n",
      " dot_product (Dot)              (None, 1, 1)         0           ['user_embedding[0][0]',         \n",
      "                                                                  'anime_embedding[0][0]']        \n",
      "                                                                                                  \n",
      " flatten_3 (Flatten)            (None, 1)            0           ['dot_product[0][0]']            \n",
      "                                                                                                  \n",
      " dense_9 (Dense)                (None, 1)            2           ['flatten_3[0][0]']              \n",
      "                                                                                                  \n",
      " batch_normalization_9 (BatchNo  (None, 1)           4           ['dense_9[0][0]']                \n",
      " rmalization)                                                                                     \n",
      "                                                                                                  \n",
      " activation_9 (Activation)      (None, 1)            0           ['batch_normalization_9[0][0]']  \n",
      "                                                                                                  \n",
      "==================================================================================================\n",
      "Total params: 13,977,734\n",
      "Trainable params: 13,977,732\n",
      "Non-trainable params: 2\n",
      "__________________________________________________________________________________________________\n"
     ]
    }
   ],
   "source": [
    "model = RecommenderNet()\n",
    "model.summary()"
   ]
  },
  {
   "cell_type": "code",
   "execution_count": null,
   "id": "12247138",
   "metadata": {},
   "outputs": [],
   "source": [
    "start_lr = 0.00001\n",
    "min_lr = 0.00001\n",
    "max_lr = 0.00005\n",
    "batch_size = 10000\n",
    "\n",
    "\n",
    "rampup_epochs = 5\n",
    "sustain_epochs = 0\n",
    "exp_decay = .8\n",
    "\n",
    "def lrfn(epoch):\n",
    "    if epoch < rampup_epochs:\n",
    "        return (max_lr - start_lr)/rampup_epochs * epoch + start_lr\n",
    "    elif epoch < rampup_epochs + sustain_epochs:\n",
    "        return max_lr\n",
    "    else:\n",
    "        return (max_lr - min_lr) * exp_decay**(epoch-rampup_epochs-sustain_epochs) + min_lr\n",
    "\n",
    "\n",
    "lr_callback = LearningRateScheduler(lambda epoch: lrfn(epoch), verbose=0)\n",
    "\n",
    "checkpoint_filepath = './weights.h5'\n",
    "\n",
    "model_checkpoints = ModelCheckpoint(filepath=checkpoint_filepath,\n",
    "                                        save_weights_only=True,\n",
    "                                        monitor='val_loss',\n",
    "                                        mode='min',\n",
    "                                        save_best_only=True)\n",
    "\n",
    "early_stopping = EarlyStopping(patience = 3, monitor='val_loss',\n",
    "                               mode='min', restore_best_weights=True)\n",
    "\n",
    "my_callbacks = [\n",
    "    model_checkpoints,\n",
    "    lr_callback,\n",
    "    early_stopping,\n",
    "]"
   ]
  },
  {
   "cell_type": "code",
   "execution_count": 73,
   "id": "fe1f2afe",
   "metadata": {},
   "outputs": [
    {
     "name": "stdout",
     "output_type": "stream",
     "text": [
      "Epoch 1/20\n",
      "7142/7142 [==============================] - 81s 11ms/step - loss: 0.7930 - mae: 0.3829 - mse: 0.1963 - val_loss: 0.7755 - val_mae: 0.3882 - val_mse: 0.1976 - lr: 1.0000e-05\n",
      "Epoch 2/20\n",
      "7142/7142 [==============================] - 74s 10ms/step - loss: 0.7554 - mae: 0.3725 - mse: 0.1819 - val_loss: 0.7324 - val_mae: 0.3783 - val_mse: 0.1806 - lr: 1.8000e-05\n",
      "Epoch 3/20\n",
      "7142/7142 [==============================] - 70s 10ms/step - loss: 0.6363 - mae: 0.3153 - mse: 0.1304 - val_loss: 0.6575 - val_mae: 0.3631 - val_mse: 0.1475 - lr: 2.6000e-05\n",
      "Epoch 4/20\n",
      "7142/7142 [==============================] - 72s 10ms/step - loss: 0.5595 - mae: 0.2643 - mse: 0.0976 - val_loss: 0.6543 - val_mae: 0.3578 - val_mse: 0.1449 - lr: 3.4000e-05\n",
      "Epoch 5/20\n",
      "7142/7142 [==============================] - 71s 10ms/step - loss: 0.5270 - mae: 0.2349 - mse: 0.0854 - val_loss: 0.6654 - val_mae: 0.3542 - val_mse: 0.1481 - lr: 4.2000e-05\n",
      "Epoch 6/20\n",
      "7142/7142 [==============================] - 71s 10ms/step - loss: 0.5042 - mae: 0.2124 - mse: 0.0773 - val_loss: 0.6867 - val_mae: 0.3512 - val_mse: 0.1538 - lr: 5.0000e-05\n",
      "Epoch 7/20\n",
      "7142/7142 [==============================] - 71s 10ms/step - loss: 0.4888 - mae: 0.1978 - mse: 0.0719 - val_loss: 0.7093 - val_mae: 0.3494 - val_mse: 0.1593 - lr: 4.2000e-05\n"
     ]
    }
   ],
   "source": [
    "history = model.fit(\n",
    "    x=X_train_array,\n",
    "    y=y_train,\n",
    "    batch_size=batch_size,\n",
    "    epochs=20,\n",
    "    verbose=1,\n",
    "    validation_data=(X_test_array, y_test),\n",
    "    callbacks=my_callbacks\n",
    ")\n"
   ]
  },
  {
   "cell_type": "code",
   "execution_count": 74,
   "id": "bfa6e8b6",
   "metadata": {},
   "outputs": [
    {
     "data": {
      "image/png": "[encoded data removed]",
      "text/plain": [
       "<Figure size 800x1200 with 3 Axes>"
      ]
     },
     "metadata": {},
     "output_type": "display_data"
    }
   ],
   "source": [
    "metrics = [\"loss\", \"mae\", \"mse\"]\n",
    "\n",
    "fig,axes = plt.subplots(len(metrics),1,figsize=(8,len(metrics)*4))\n",
    "for i,metric in enumerate(metrics):\n",
    "    ax = axes[i]\n",
    "    ax.plot(history.history[metric][0:-2],marker=\"o\",label=f\"train {metric}\")\n",
    "    ax.plot(history.history[f\"val_{metric}\"][0:-2],marker=\"o\",label=f\"test {metric}\")\n",
    "    ax.set_title(f\"Model {metric.capitalize()}\")\n",
    "    ax.set_xlabel(\"Epochs\")\n",
    "    ax.legend(loc=\"upper right\")\n",
    "    ax.grid(True)\n",
    "plt.tight_layout()\n",
    "plt.show()"
   ]
  },
  {
   "cell_type": "code",
   "execution_count": 75,
   "id": "c4fcfb4a",
   "metadata": {},
   "outputs": [],
   "source": [
    "def extract_weights(name,model):\n",
    "    weight_layer = model.get_layer(name)\n",
    "    weights = weight_layer.get_weights()[0]\n",
    "    weights = weights / np.linalg.norm(weights, axis=1).reshape(-1, 1)\n",
    "    return weights"
   ]
  },
  {
   "cell_type": "code",
   "execution_count": 76,
   "id": "580d3ab5",
   "metadata": {},
   "outputs": [
    {
     "data": {
      "text/plain": [
       "((17560, 128), (91641, 128))"
      ]
     },
     "execution_count": 76,
     "metadata": {},
     "output_type": "execute_result"
    }
   ],
   "source": [
    "anime_weights = extract_weights(\"anime_embedding\",model)\n",
    "user_weights = extract_weights(\"user_embedding\",model)\n",
    "anime_weights.shape, user_weights.shape"
   ]
  },
  {
   "cell_type": "markdown",
   "id": "5217ac4f",
   "metadata": {},
   "source": [
    "### Reading Anime CSV"
   ]
  },
  {
   "cell_type": "code",
   "execution_count": 80,
   "id": "7af9f634",
   "metadata": {},
   "outputs": [],
   "source": [
    "pd.set_option('display.max_columns', None)"
   ]
  },
  {
   "cell_type": "code",
   "execution_count": 93,
   "id": "30de4a36",
   "metadata": {},
   "outputs": [
    {
     "data": {
      "text/html": [
       "<div>\n",
       "<style scoped>\n",
       "    .dataframe tbody tr th:only-of-type {\n",
       "        vertical-align: middle;\n",
       "    }\n",
       "\n",
       "    .dataframe tbody tr th {\n",
       "        vertical-align: top;\n",
       "    }\n",
       "\n",
       "    .dataframe thead th {\n",
       "        text-align: right;\n",
       "    }\n",
       "</style>\n",
       "<table border=\"1\" class=\"dataframe\">\n",
       "  <thead>\n",
       "    <tr style=\"text-align: right;\">\n",
       "      <th></th>\n",
       "      <th>MAL_ID</th>\n",
       "      <th>Name</th>\n",
       "      <th>Score</th>\n",
       "      <th>Genres</th>\n",
       "      <th>English name</th>\n",
       "      <th>Japanese name</th>\n",
       "      <th>Type</th>\n",
       "      <th>Episodes</th>\n",
       "      <th>Aired</th>\n",
       "      <th>Premiered</th>\n",
       "      <th>Producers</th>\n",
       "      <th>Licensors</th>\n",
       "      <th>Studios</th>\n",
       "      <th>Source</th>\n",
       "      <th>Duration</th>\n",
       "      <th>Rating</th>\n",
       "      <th>Ranked</th>\n",
       "      <th>Popularity</th>\n",
       "      <th>Members</th>\n",
       "      <th>Favorites</th>\n",
       "      <th>Watching</th>\n",
       "      <th>Completed</th>\n",
       "      <th>On-Hold</th>\n",
       "      <th>Dropped</th>\n",
       "      <th>Plan to Watch</th>\n",
       "      <th>Score-10</th>\n",
       "      <th>Score-9</th>\n",
       "      <th>Score-8</th>\n",
       "      <th>Score-7</th>\n",
       "      <th>Score-6</th>\n",
       "      <th>Score-5</th>\n",
       "      <th>Score-4</th>\n",
       "      <th>Score-3</th>\n",
       "      <th>Score-2</th>\n",
       "      <th>Score-1</th>\n",
       "    </tr>\n",
       "  </thead>\n",
       "  <tbody>\n",
       "    <tr>\n",
       "      <th>0</th>\n",
       "      <td>1</td>\n",
       "      <td>Cowboy Bebop</td>\n",
       "      <td>8.78</td>\n",
       "      <td>Action, Adventure, Comedy, Drama, Sci-Fi, Space</td>\n",
       "      <td>Cowboy Bebop</td>\n",
       "      <td>カウボーイビバップ</td>\n",
       "      <td>TV</td>\n",
       "      <td>26</td>\n",
       "      <td>Apr 3, 1998 to Apr 24, 1999</td>\n",
       "      <td>Spring 1998</td>\n",
       "      <td>Bandai Visual</td>\n",
       "      <td>Funimation, Bandai Entertainment</td>\n",
       "      <td>Sunrise</td>\n",
       "      <td>Original</td>\n",
       "      <td>24 min. per ep.</td>\n",
       "      <td>R - 17+ (violence &amp; profanity)</td>\n",
       "      <td>28.0</td>\n",
       "      <td>39</td>\n",
       "      <td>1251960</td>\n",
       "      <td>61971</td>\n",
       "      <td>105808</td>\n",
       "      <td>718161</td>\n",
       "      <td>71513</td>\n",
       "      <td>26678</td>\n",
       "      <td>329800</td>\n",
       "      <td>229170.0</td>\n",
       "      <td>182126.0</td>\n",
       "      <td>131625.0</td>\n",
       "      <td>62330.0</td>\n",
       "      <td>20688.0</td>\n",
       "      <td>8904.0</td>\n",
       "      <td>3184.0</td>\n",
       "      <td>1357.0</td>\n",
       "      <td>741.0</td>\n",
       "      <td>1580.0</td>\n",
       "    </tr>\n",
       "    <tr>\n",
       "      <th>1</th>\n",
       "      <td>5</td>\n",
       "      <td>Cowboy Bebop: Tengoku no Tobira</td>\n",
       "      <td>8.39</td>\n",
       "      <td>Action, Drama, Mystery, Sci-Fi, Space</td>\n",
       "      <td>Cowboy Bebop:The Movie</td>\n",
       "      <td>カウボーイビバップ 天国の扉</td>\n",
       "      <td>Movie</td>\n",
       "      <td>1</td>\n",
       "      <td>Sep 1, 2001</td>\n",
       "      <td>Unknown</td>\n",
       "      <td>Sunrise, Bandai Visual</td>\n",
       "      <td>Sony Pictures Entertainment</td>\n",
       "      <td>Bones</td>\n",
       "      <td>Original</td>\n",
       "      <td>1 hr. 55 min.</td>\n",
       "      <td>R - 17+ (violence &amp; profanity)</td>\n",
       "      <td>159.0</td>\n",
       "      <td>518</td>\n",
       "      <td>273145</td>\n",
       "      <td>1174</td>\n",
       "      <td>4143</td>\n",
       "      <td>208333</td>\n",
       "      <td>1935</td>\n",
       "      <td>770</td>\n",
       "      <td>57964</td>\n",
       "      <td>30043.0</td>\n",
       "      <td>49201.0</td>\n",
       "      <td>49505.0</td>\n",
       "      <td>22632.0</td>\n",
       "      <td>5805.0</td>\n",
       "      <td>1877.0</td>\n",
       "      <td>577.0</td>\n",
       "      <td>221.0</td>\n",
       "      <td>109.0</td>\n",
       "      <td>379.0</td>\n",
       "    </tr>\n",
       "  </tbody>\n",
       "</table>\n",
       "</div>"
      ],
      "text/plain": [
       "   MAL_ID                             Name Score  \\\n",
       "0       1                     Cowboy Bebop  8.78   \n",
       "1       5  Cowboy Bebop: Tengoku no Tobira  8.39   \n",
       "\n",
       "                                            Genres            English name  \\\n",
       "0  Action, Adventure, Comedy, Drama, Sci-Fi, Space            Cowboy Bebop   \n",
       "1            Action, Drama, Mystery, Sci-Fi, Space  Cowboy Bebop:The Movie   \n",
       "\n",
       "    Japanese name   Type Episodes                        Aired    Premiered  \\\n",
       "0       カウボーイビバップ     TV       26  Apr 3, 1998 to Apr 24, 1999  Spring 1998   \n",
       "1  カウボーイビバップ 天国の扉  Movie        1                  Sep 1, 2001      Unknown   \n",
       "\n",
       "                Producers                         Licensors  Studios  \\\n",
       "0           Bandai Visual  Funimation, Bandai Entertainment  Sunrise   \n",
       "1  Sunrise, Bandai Visual       Sony Pictures Entertainment    Bones   \n",
       "\n",
       "     Source         Duration                          Rating Ranked  \\\n",
       "0  Original  24 min. per ep.  R - 17+ (violence & profanity)   28.0   \n",
       "1  Original    1 hr. 55 min.  R - 17+ (violence & profanity)  159.0   \n",
       "\n",
       "   Popularity  Members  Favorites  Watching  Completed  On-Hold  Dropped  \\\n",
       "0          39  1251960      61971    105808     718161    71513    26678   \n",
       "1         518   273145       1174      4143     208333     1935      770   \n",
       "\n",
       "   Plan to Watch  Score-10   Score-9   Score-8  Score-7  Score-6 Score-5  \\\n",
       "0         329800  229170.0  182126.0  131625.0  62330.0  20688.0  8904.0   \n",
       "1          57964   30043.0   49201.0   49505.0  22632.0   5805.0  1877.0   \n",
       "\n",
       "  Score-4 Score-3 Score-2 Score-1  \n",
       "0  3184.0  1357.0   741.0  1580.0  \n",
       "1   577.0   221.0   109.0   379.0  "
      ]
     },
     "execution_count": 93,
     "metadata": {},
     "output_type": "execute_result"
    }
   ],
   "source": [
    "df = pd.read_csv(INPUT_DIR + r\"\\anime.csv\",low_memory=True)\n",
    "df.head(2)"
   ]
  },
  {
   "cell_type": "code",
   "execution_count": 94,
   "id": "36665edf",
   "metadata": {},
   "outputs": [],
   "source": [
    "df = df.replace(\"Unknown\", np.nan)"
   ]
  },
  {
   "cell_type": "code",
   "execution_count": 95,
   "id": "48ea096a",
   "metadata": {},
   "outputs": [
    {
     "data": {
      "text/html": [
       "<div>\n",
       "<style scoped>\n",
       "    .dataframe tbody tr th:only-of-type {\n",
       "        vertical-align: middle;\n",
       "    }\n",
       "\n",
       "    .dataframe tbody tr th {\n",
       "        vertical-align: top;\n",
       "    }\n",
       "\n",
       "    .dataframe thead th {\n",
       "        text-align: right;\n",
       "    }\n",
       "</style>\n",
       "<table border=\"1\" class=\"dataframe\">\n",
       "  <thead>\n",
       "    <tr style=\"text-align: right;\">\n",
       "      <th></th>\n",
       "      <th>MAL_ID</th>\n",
       "      <th>Name</th>\n",
       "      <th>Score</th>\n",
       "      <th>Genres</th>\n",
       "      <th>English name</th>\n",
       "      <th>Japanese name</th>\n",
       "      <th>Type</th>\n",
       "      <th>Episodes</th>\n",
       "      <th>Aired</th>\n",
       "      <th>Premiered</th>\n",
       "      <th>Producers</th>\n",
       "      <th>Licensors</th>\n",
       "      <th>Studios</th>\n",
       "      <th>Source</th>\n",
       "      <th>Duration</th>\n",
       "      <th>Rating</th>\n",
       "      <th>Ranked</th>\n",
       "      <th>Popularity</th>\n",
       "      <th>Members</th>\n",
       "      <th>Favorites</th>\n",
       "      <th>Watching</th>\n",
       "      <th>Completed</th>\n",
       "      <th>On-Hold</th>\n",
       "      <th>Dropped</th>\n",
       "      <th>Plan to Watch</th>\n",
       "      <th>Score-10</th>\n",
       "      <th>Score-9</th>\n",
       "      <th>Score-8</th>\n",
       "      <th>Score-7</th>\n",
       "      <th>Score-6</th>\n",
       "      <th>Score-5</th>\n",
       "      <th>Score-4</th>\n",
       "      <th>Score-3</th>\n",
       "      <th>Score-2</th>\n",
       "      <th>Score-1</th>\n",
       "    </tr>\n",
       "  </thead>\n",
       "  <tbody>\n",
       "    <tr>\n",
       "      <th>0</th>\n",
       "      <td>1</td>\n",
       "      <td>Cowboy Bebop</td>\n",
       "      <td>8.78</td>\n",
       "      <td>Action, Adventure, Comedy, Drama, Sci-Fi, Space</td>\n",
       "      <td>Cowboy Bebop</td>\n",
       "      <td>カウボーイビバップ</td>\n",
       "      <td>TV</td>\n",
       "      <td>26</td>\n",
       "      <td>Apr 3, 1998 to Apr 24, 1999</td>\n",
       "      <td>Spring 1998</td>\n",
       "      <td>Bandai Visual</td>\n",
       "      <td>Funimation, Bandai Entertainment</td>\n",
       "      <td>Sunrise</td>\n",
       "      <td>Original</td>\n",
       "      <td>24 min. per ep.</td>\n",
       "      <td>R - 17+ (violence &amp; profanity)</td>\n",
       "      <td>28.0</td>\n",
       "      <td>39</td>\n",
       "      <td>1251960</td>\n",
       "      <td>61971</td>\n",
       "      <td>105808</td>\n",
       "      <td>718161</td>\n",
       "      <td>71513</td>\n",
       "      <td>26678</td>\n",
       "      <td>329800</td>\n",
       "      <td>229170.0</td>\n",
       "      <td>182126.0</td>\n",
       "      <td>131625.0</td>\n",
       "      <td>62330.0</td>\n",
       "      <td>20688.0</td>\n",
       "      <td>8904.0</td>\n",
       "      <td>3184.0</td>\n",
       "      <td>1357.0</td>\n",
       "      <td>741.0</td>\n",
       "      <td>1580.0</td>\n",
       "    </tr>\n",
       "    <tr>\n",
       "      <th>1</th>\n",
       "      <td>5</td>\n",
       "      <td>Cowboy Bebop: Tengoku no Tobira</td>\n",
       "      <td>8.39</td>\n",
       "      <td>Action, Drama, Mystery, Sci-Fi, Space</td>\n",
       "      <td>Cowboy Bebop:The Movie</td>\n",
       "      <td>カウボーイビバップ 天国の扉</td>\n",
       "      <td>Movie</td>\n",
       "      <td>1</td>\n",
       "      <td>Sep 1, 2001</td>\n",
       "      <td>NaN</td>\n",
       "      <td>Sunrise, Bandai Visual</td>\n",
       "      <td>Sony Pictures Entertainment</td>\n",
       "      <td>Bones</td>\n",
       "      <td>Original</td>\n",
       "      <td>1 hr. 55 min.</td>\n",
       "      <td>R - 17+ (violence &amp; profanity)</td>\n",
       "      <td>159.0</td>\n",
       "      <td>518</td>\n",
       "      <td>273145</td>\n",
       "      <td>1174</td>\n",
       "      <td>4143</td>\n",
       "      <td>208333</td>\n",
       "      <td>1935</td>\n",
       "      <td>770</td>\n",
       "      <td>57964</td>\n",
       "      <td>30043.0</td>\n",
       "      <td>49201.0</td>\n",
       "      <td>49505.0</td>\n",
       "      <td>22632.0</td>\n",
       "      <td>5805.0</td>\n",
       "      <td>1877.0</td>\n",
       "      <td>577.0</td>\n",
       "      <td>221.0</td>\n",
       "      <td>109.0</td>\n",
       "      <td>379.0</td>\n",
       "    </tr>\n",
       "  </tbody>\n",
       "</table>\n",
       "</div>"
      ],
      "text/plain": [
       "   MAL_ID                             Name Score  \\\n",
       "0       1                     Cowboy Bebop  8.78   \n",
       "1       5  Cowboy Bebop: Tengoku no Tobira  8.39   \n",
       "\n",
       "                                            Genres            English name  \\\n",
       "0  Action, Adventure, Comedy, Drama, Sci-Fi, Space            Cowboy Bebop   \n",
       "1            Action, Drama, Mystery, Sci-Fi, Space  Cowboy Bebop:The Movie   \n",
       "\n",
       "    Japanese name   Type Episodes                        Aired    Premiered  \\\n",
       "0       カウボーイビバップ     TV       26  Apr 3, 1998 to Apr 24, 1999  Spring 1998   \n",
       "1  カウボーイビバップ 天国の扉  Movie        1                  Sep 1, 2001          NaN   \n",
       "\n",
       "                Producers                         Licensors  Studios  \\\n",
       "0           Bandai Visual  Funimation, Bandai Entertainment  Sunrise   \n",
       "1  Sunrise, Bandai Visual       Sony Pictures Entertainment    Bones   \n",
       "\n",
       "     Source         Duration                          Rating Ranked  \\\n",
       "0  Original  24 min. per ep.  R - 17+ (violence & profanity)   28.0   \n",
       "1  Original    1 hr. 55 min.  R - 17+ (violence & profanity)  159.0   \n",
       "\n",
       "   Popularity  Members  Favorites  Watching  Completed  On-Hold  Dropped  \\\n",
       "0          39  1251960      61971    105808     718161    71513    26678   \n",
       "1         518   273145       1174      4143     208333     1935      770   \n",
       "\n",
       "   Plan to Watch  Score-10   Score-9   Score-8  Score-7  Score-6 Score-5  \\\n",
       "0         329800  229170.0  182126.0  131625.0  62330.0  20688.0  8904.0   \n",
       "1          57964   30043.0   49201.0   49505.0  22632.0   5805.0  1877.0   \n",
       "\n",
       "  Score-4 Score-3 Score-2 Score-1  \n",
       "0  3184.0  1357.0   741.0  1580.0  \n",
       "1   577.0   221.0   109.0   379.0  "
      ]
     },
     "execution_count": 95,
     "metadata": {},
     "output_type": "execute_result"
    }
   ],
   "source": [
    "df.head(2)"
   ]
  },
  {
   "cell_type": "code",
   "execution_count": null,
   "id": "9dc1b94d",
   "metadata": {},
   "outputs": [],
   "source": [
    "def get_anime_name(anime_id):\n",
    "    try:\n",
    "        mask = df['anime_id'] == anime_id\n",
    "        eng_name = df[mask]['English name'].values[0]\n",
    "\n",
    "        if pd.isna(eng_name):\n",
    "            name = df[mask]['Name'].values[0]\n",
    "        else:\n",
    "            name = eng_name\n",
    "\n",
    "        return name\n",
    "    except (IndexError, KeyError):\n",
    "        return f\"Unknown Anime (ID: {anime_id})\""
   ]
  },
  {
   "cell_type": "code",
   "execution_count": 97,
   "id": "e66480a7",
   "metadata": {},
   "outputs": [],
   "source": [
    "df[\"anime_id\"] = df[\"MAL_ID\"]\n",
    "df[\"eng_version\"] = df.anime_id.apply(lambda x : get_anime_name(x))"
   ]
  },
  {
   "cell_type": "code",
   "execution_count": 98,
   "id": "bd62a135",
   "metadata": {},
   "outputs": [
    {
     "data": {
      "text/html": [
       "<div>\n",
       "<style scoped>\n",
       "    .dataframe tbody tr th:only-of-type {\n",
       "        vertical-align: middle;\n",
       "    }\n",
       "\n",
       "    .dataframe tbody tr th {\n",
       "        vertical-align: top;\n",
       "    }\n",
       "\n",
       "    .dataframe thead th {\n",
       "        text-align: right;\n",
       "    }\n",
       "</style>\n",
       "<table border=\"1\" class=\"dataframe\">\n",
       "  <thead>\n",
       "    <tr style=\"text-align: right;\">\n",
       "      <th></th>\n",
       "      <th>MAL_ID</th>\n",
       "      <th>Name</th>\n",
       "      <th>Score</th>\n",
       "      <th>Genres</th>\n",
       "      <th>English name</th>\n",
       "      <th>Japanese name</th>\n",
       "      <th>Type</th>\n",
       "      <th>Episodes</th>\n",
       "      <th>Aired</th>\n",
       "      <th>Premiered</th>\n",
       "      <th>Producers</th>\n",
       "      <th>Licensors</th>\n",
       "      <th>Studios</th>\n",
       "      <th>Source</th>\n",
       "      <th>Duration</th>\n",
       "      <th>Rating</th>\n",
       "      <th>Ranked</th>\n",
       "      <th>Popularity</th>\n",
       "      <th>Members</th>\n",
       "      <th>Favorites</th>\n",
       "      <th>Watching</th>\n",
       "      <th>Completed</th>\n",
       "      <th>On-Hold</th>\n",
       "      <th>Dropped</th>\n",
       "      <th>Plan to Watch</th>\n",
       "      <th>Score-10</th>\n",
       "      <th>Score-9</th>\n",
       "      <th>Score-8</th>\n",
       "      <th>Score-7</th>\n",
       "      <th>Score-6</th>\n",
       "      <th>Score-5</th>\n",
       "      <th>Score-4</th>\n",
       "      <th>Score-3</th>\n",
       "      <th>Score-2</th>\n",
       "      <th>Score-1</th>\n",
       "      <th>anime_id</th>\n",
       "      <th>eng_version</th>\n",
       "    </tr>\n",
       "  </thead>\n",
       "  <tbody>\n",
       "    <tr>\n",
       "      <th>0</th>\n",
       "      <td>1</td>\n",
       "      <td>Cowboy Bebop</td>\n",
       "      <td>8.78</td>\n",
       "      <td>Action, Adventure, Comedy, Drama, Sci-Fi, Space</td>\n",
       "      <td>Cowboy Bebop</td>\n",
       "      <td>カウボーイビバップ</td>\n",
       "      <td>TV</td>\n",
       "      <td>26</td>\n",
       "      <td>Apr 3, 1998 to Apr 24, 1999</td>\n",
       "      <td>Spring 1998</td>\n",
       "      <td>Bandai Visual</td>\n",
       "      <td>Funimation, Bandai Entertainment</td>\n",
       "      <td>Sunrise</td>\n",
       "      <td>Original</td>\n",
       "      <td>24 min. per ep.</td>\n",
       "      <td>R - 17+ (violence &amp; profanity)</td>\n",
       "      <td>28.0</td>\n",
       "      <td>39</td>\n",
       "      <td>1251960</td>\n",
       "      <td>61971</td>\n",
       "      <td>105808</td>\n",
       "      <td>718161</td>\n",
       "      <td>71513</td>\n",
       "      <td>26678</td>\n",
       "      <td>329800</td>\n",
       "      <td>229170.0</td>\n",
       "      <td>182126.0</td>\n",
       "      <td>131625.0</td>\n",
       "      <td>62330.0</td>\n",
       "      <td>20688.0</td>\n",
       "      <td>8904.0</td>\n",
       "      <td>3184.0</td>\n",
       "      <td>1357.0</td>\n",
       "      <td>741.0</td>\n",
       "      <td>1580.0</td>\n",
       "      <td>1</td>\n",
       "      <td>Cowboy Bebop</td>\n",
       "    </tr>\n",
       "  </tbody>\n",
       "</table>\n",
       "</div>"
      ],
      "text/plain": [
       "   MAL_ID          Name Score  \\\n",
       "0       1  Cowboy Bebop  8.78   \n",
       "\n",
       "                                            Genres  English name  \\\n",
       "0  Action, Adventure, Comedy, Drama, Sci-Fi, Space  Cowboy Bebop   \n",
       "\n",
       "  Japanese name Type Episodes                        Aired    Premiered  \\\n",
       "0     カウボーイビバップ   TV       26  Apr 3, 1998 to Apr 24, 1999  Spring 1998   \n",
       "\n",
       "       Producers                         Licensors  Studios    Source  \\\n",
       "0  Bandai Visual  Funimation, Bandai Entertainment  Sunrise  Original   \n",
       "\n",
       "          Duration                          Rating Ranked  Popularity  \\\n",
       "0  24 min. per ep.  R - 17+ (violence & profanity)   28.0          39   \n",
       "\n",
       "   Members  Favorites  Watching  Completed  On-Hold  Dropped  Plan to Watch  \\\n",
       "0  1251960      61971    105808     718161    71513    26678         329800   \n",
       "\n",
       "   Score-10   Score-9   Score-8  Score-7  Score-6 Score-5 Score-4 Score-3  \\\n",
       "0  229170.0  182126.0  131625.0  62330.0  20688.0  8904.0  3184.0  1357.0   \n",
       "\n",
       "  Score-2 Score-1  anime_id   eng_version  \n",
       "0   741.0  1580.0         1  Cowboy Bebop  "
      ]
     },
     "execution_count": 98,
     "metadata": {},
     "output_type": "execute_result"
    }
   ],
   "source": [
    "df.head(1)"
   ]
  },
  {
   "cell_type": "code",
   "execution_count": 105,
   "id": "5e0f016f",
   "metadata": {},
   "outputs": [
    {
     "data": {
      "text/plain": [
       "'Trigun'"
      ]
     },
     "execution_count": 105,
     "metadata": {},
     "output_type": "execute_result"
    }
   ],
   "source": [
    "get_anime_name(6)"
   ]
  },
  {
   "cell_type": "code",
   "execution_count": 106,
   "id": "3e54f1ee",
   "metadata": {},
   "outputs": [],
   "source": [
    "df.sort_values(by=[\"Score\"],\n",
    "               inplace=True,\n",
    "               ascending=False,\n",
    "               kind=\"quicksort\",\n",
    "               na_position=\"last\")"
   ]
  },
  {
   "cell_type": "code",
   "execution_count": 108,
   "id": "1593fee8",
   "metadata": {},
   "outputs": [
    {
     "data": {
      "text/html": [
       "<div>\n",
       "<style scoped>\n",
       "    .dataframe tbody tr th:only-of-type {\n",
       "        vertical-align: middle;\n",
       "    }\n",
       "\n",
       "    .dataframe tbody tr th {\n",
       "        vertical-align: top;\n",
       "    }\n",
       "\n",
       "    .dataframe thead th {\n",
       "        text-align: right;\n",
       "    }\n",
       "</style>\n",
       "<table border=\"1\" class=\"dataframe\">\n",
       "  <thead>\n",
       "    <tr style=\"text-align: right;\">\n",
       "      <th></th>\n",
       "      <th>MAL_ID</th>\n",
       "      <th>Name</th>\n",
       "      <th>Score</th>\n",
       "      <th>Genres</th>\n",
       "      <th>English name</th>\n",
       "      <th>Japanese name</th>\n",
       "      <th>Type</th>\n",
       "      <th>Episodes</th>\n",
       "      <th>Aired</th>\n",
       "      <th>Premiered</th>\n",
       "      <th>Producers</th>\n",
       "      <th>Licensors</th>\n",
       "      <th>Studios</th>\n",
       "      <th>Source</th>\n",
       "      <th>Duration</th>\n",
       "      <th>Rating</th>\n",
       "      <th>Ranked</th>\n",
       "      <th>Popularity</th>\n",
       "      <th>Members</th>\n",
       "      <th>Favorites</th>\n",
       "      <th>Watching</th>\n",
       "      <th>Completed</th>\n",
       "      <th>On-Hold</th>\n",
       "      <th>Dropped</th>\n",
       "      <th>Plan to Watch</th>\n",
       "      <th>Score-10</th>\n",
       "      <th>Score-9</th>\n",
       "      <th>Score-8</th>\n",
       "      <th>Score-7</th>\n",
       "      <th>Score-6</th>\n",
       "      <th>Score-5</th>\n",
       "      <th>Score-4</th>\n",
       "      <th>Score-3</th>\n",
       "      <th>Score-2</th>\n",
       "      <th>Score-1</th>\n",
       "      <th>anime_id</th>\n",
       "      <th>eng_version</th>\n",
       "    </tr>\n",
       "  </thead>\n",
       "  <tbody>\n",
       "    <tr>\n",
       "      <th>3971</th>\n",
       "      <td>5114</td>\n",
       "      <td>Fullmetal Alchemist: Brotherhood</td>\n",
       "      <td>9.19</td>\n",
       "      <td>Action, Military, Adventure, Comedy, Drama, Ma...</td>\n",
       "      <td>Fullmetal Alchemist:Brotherhood</td>\n",
       "      <td>鋼の錬金術師 FULLMETAL ALCHEMIST</td>\n",
       "      <td>TV</td>\n",
       "      <td>64</td>\n",
       "      <td>Apr 5, 2009 to Jul 4, 2010</td>\n",
       "      <td>Spring 2009</td>\n",
       "      <td>Aniplex, Square Enix, Mainichi Broadcasting Sy...</td>\n",
       "      <td>Funimation, Aniplex of America</td>\n",
       "      <td>Bones</td>\n",
       "      <td>Manga</td>\n",
       "      <td>24 min. per ep.</td>\n",
       "      <td>R - 17+ (violence &amp; profanity)</td>\n",
       "      <td>1.0</td>\n",
       "      <td>3</td>\n",
       "      <td>2248456</td>\n",
       "      <td>183914</td>\n",
       "      <td>171871</td>\n",
       "      <td>1644938</td>\n",
       "      <td>75728</td>\n",
       "      <td>32456</td>\n",
       "      <td>323463</td>\n",
       "      <td>714811.0</td>\n",
       "      <td>401507.0</td>\n",
       "      <td>199160.0</td>\n",
       "      <td>70045.0</td>\n",
       "      <td>20210.0</td>\n",
       "      <td>9308.0</td>\n",
       "      <td>3222.0</td>\n",
       "      <td>1536.0</td>\n",
       "      <td>2162.0</td>\n",
       "      <td>16806.0</td>\n",
       "      <td>5114</td>\n",
       "      <td>Fullmetal Alchemist:Brotherhood</td>\n",
       "    </tr>\n",
       "    <tr>\n",
       "      <th>15926</th>\n",
       "      <td>40028</td>\n",
       "      <td>Shingeki no Kyojin: The Final Season</td>\n",
       "      <td>9.17</td>\n",
       "      <td>Action, Military, Mystery, Super Power, Drama,...</td>\n",
       "      <td>Attack on Titan Final Season</td>\n",
       "      <td>進撃の巨人 The Final Season</td>\n",
       "      <td>TV</td>\n",
       "      <td>16</td>\n",
       "      <td>Dec 7, 2020 to ?</td>\n",
       "      <td>Winter 2021</td>\n",
       "      <td>Production I.G, Dentsu, Mainichi Broadcasting ...</td>\n",
       "      <td>Funimation</td>\n",
       "      <td>MAPPA</td>\n",
       "      <td>Manga</td>\n",
       "      <td>23 min. per ep.</td>\n",
       "      <td>R - 17+ (violence &amp; profanity)</td>\n",
       "      <td>2.0</td>\n",
       "      <td>119</td>\n",
       "      <td>733260</td>\n",
       "      <td>44862</td>\n",
       "      <td>566239</td>\n",
       "      <td>553</td>\n",
       "      <td>6658</td>\n",
       "      <td>2090</td>\n",
       "      <td>157720</td>\n",
       "      <td>173154.0</td>\n",
       "      <td>63756.0</td>\n",
       "      <td>26016.0</td>\n",
       "      <td>8793.0</td>\n",
       "      <td>2674.0</td>\n",
       "      <td>1336.0</td>\n",
       "      <td>588.0</td>\n",
       "      <td>382.0</td>\n",
       "      <td>514.0</td>\n",
       "      <td>11061.0</td>\n",
       "      <td>40028</td>\n",
       "      <td>Attack on Titan Final Season</td>\n",
       "    </tr>\n",
       "    <tr>\n",
       "      <th>5683</th>\n",
       "      <td>9253</td>\n",
       "      <td>Steins;Gate</td>\n",
       "      <td>9.11</td>\n",
       "      <td>Thriller, Sci-Fi</td>\n",
       "      <td>Steins;Gate</td>\n",
       "      <td>STEINS;GATE</td>\n",
       "      <td>TV</td>\n",
       "      <td>24</td>\n",
       "      <td>Apr 6, 2011 to Sep 14, 2011</td>\n",
       "      <td>Spring 2011</td>\n",
       "      <td>Frontier Works, Media Factory, Movic, AT-X, Ka...</td>\n",
       "      <td>Funimation</td>\n",
       "      <td>White Fox</td>\n",
       "      <td>Visual novel</td>\n",
       "      <td>24 min. per ep.</td>\n",
       "      <td>PG-13 - Teens 13 or older</td>\n",
       "      <td>3.0</td>\n",
       "      <td>9</td>\n",
       "      <td>1771162</td>\n",
       "      <td>148452</td>\n",
       "      <td>114349</td>\n",
       "      <td>1134756</td>\n",
       "      <td>60926</td>\n",
       "      <td>35600</td>\n",
       "      <td>425531</td>\n",
       "      <td>468504.0</td>\n",
       "      <td>275960.0</td>\n",
       "      <td>140914.0</td>\n",
       "      <td>57740.0</td>\n",
       "      <td>21375.0</td>\n",
       "      <td>11126.0</td>\n",
       "      <td>5061.0</td>\n",
       "      <td>2292.0</td>\n",
       "      <td>1678.0</td>\n",
       "      <td>5255.0</td>\n",
       "      <td>9253</td>\n",
       "      <td>Steins;Gate</td>\n",
       "    </tr>\n",
       "    <tr>\n",
       "      <th>14963</th>\n",
       "      <td>38524</td>\n",
       "      <td>Shingeki no Kyojin Season 3 Part 2</td>\n",
       "      <td>9.1</td>\n",
       "      <td>Action, Drama, Fantasy, Military, Mystery, Sho...</td>\n",
       "      <td>Attack on Titan Season 3 Part 2</td>\n",
       "      <td>進撃の巨人 Season3 Part.2</td>\n",
       "      <td>TV</td>\n",
       "      <td>10</td>\n",
       "      <td>Apr 29, 2019 to Jul 1, 2019</td>\n",
       "      <td>Spring 2019</td>\n",
       "      <td>Production I.G, Dentsu, Mainichi Broadcasting ...</td>\n",
       "      <td>Funimation</td>\n",
       "      <td>Wit Studio</td>\n",
       "      <td>Manga</td>\n",
       "      <td>23 min. per ep.</td>\n",
       "      <td>R - 17+ (violence &amp; profanity)</td>\n",
       "      <td>4.0</td>\n",
       "      <td>63</td>\n",
       "      <td>1073626</td>\n",
       "      <td>40985</td>\n",
       "      <td>54607</td>\n",
       "      <td>906824</td>\n",
       "      <td>5533</td>\n",
       "      <td>3099</td>\n",
       "      <td>103563</td>\n",
       "      <td>327290.0</td>\n",
       "      <td>239451.0</td>\n",
       "      <td>110481.0</td>\n",
       "      <td>33662.0</td>\n",
       "      <td>8365.0</td>\n",
       "      <td>2974.0</td>\n",
       "      <td>1108.0</td>\n",
       "      <td>550.0</td>\n",
       "      <td>385.0</td>\n",
       "      <td>4169.0</td>\n",
       "      <td>38524</td>\n",
       "      <td>Attack on Titan Season 3 Part 2</td>\n",
       "    </tr>\n",
       "    <tr>\n",
       "      <th>9913</th>\n",
       "      <td>28977</td>\n",
       "      <td>Gintama°</td>\n",
       "      <td>9.1</td>\n",
       "      <td>Action, Comedy, Historical, Parody, Samurai, S...</td>\n",
       "      <td>Gintama Season 4</td>\n",
       "      <td>銀魂°</td>\n",
       "      <td>TV</td>\n",
       "      <td>51</td>\n",
       "      <td>Apr 8, 2015 to Mar 30, 2016</td>\n",
       "      <td>Spring 2015</td>\n",
       "      <td>TV Tokyo, Aniplex, Dentsu</td>\n",
       "      <td>Funimation, Crunchyroll</td>\n",
       "      <td>Bandai Namco Pictures</td>\n",
       "      <td>Manga</td>\n",
       "      <td>24 min. per ep.</td>\n",
       "      <td>PG-13 - Teens 13 or older</td>\n",
       "      <td>5.0</td>\n",
       "      <td>329</td>\n",
       "      <td>404121</td>\n",
       "      <td>11868</td>\n",
       "      <td>48011</td>\n",
       "      <td>167130</td>\n",
       "      <td>16612</td>\n",
       "      <td>11472</td>\n",
       "      <td>160896</td>\n",
       "      <td>78918.0</td>\n",
       "      <td>37902.0</td>\n",
       "      <td>21360.0</td>\n",
       "      <td>10215.0</td>\n",
       "      <td>3898.0</td>\n",
       "      <td>2311.0</td>\n",
       "      <td>952.0</td>\n",
       "      <td>648.0</td>\n",
       "      <td>1100.0</td>\n",
       "      <td>4508.0</td>\n",
       "      <td>28977</td>\n",
       "      <td>Gintama Season 4</td>\n",
       "    </tr>\n",
       "    <tr>\n",
       "      <th>6474</th>\n",
       "      <td>11061</td>\n",
       "      <td>Hunter x Hunter (2011)</td>\n",
       "      <td>9.1</td>\n",
       "      <td>Action, Adventure, Fantasy, Shounen, Super Power</td>\n",
       "      <td>Hunter x Hunter</td>\n",
       "      <td>HUNTER×HUNTER（ハンター×ハンター）</td>\n",
       "      <td>TV</td>\n",
       "      <td>148</td>\n",
       "      <td>Oct 2, 2011 to Sep 24, 2014</td>\n",
       "      <td>Fall 2011</td>\n",
       "      <td>VAP, Nippon Television Network, Shueisha</td>\n",
       "      <td>VIZ Media</td>\n",
       "      <td>Madhouse</td>\n",
       "      <td>Manga</td>\n",
       "      <td>23 min. per ep.</td>\n",
       "      <td>PG-13 - Teens 13 or older</td>\n",
       "      <td>6.0</td>\n",
       "      <td>12</td>\n",
       "      <td>1673924</td>\n",
       "      <td>147274</td>\n",
       "      <td>227277</td>\n",
       "      <td>1094486</td>\n",
       "      <td>79587</td>\n",
       "      <td>31652</td>\n",
       "      <td>240922</td>\n",
       "      <td>454000.0</td>\n",
       "      <td>304741.0</td>\n",
       "      <td>167331.0</td>\n",
       "      <td>65085.0</td>\n",
       "      <td>18241.0</td>\n",
       "      <td>7789.0</td>\n",
       "      <td>2780.0</td>\n",
       "      <td>1243.0</td>\n",
       "      <td>1054.0</td>\n",
       "      <td>4602.0</td>\n",
       "      <td>11061</td>\n",
       "      <td>Hunter x Hunter</td>\n",
       "    </tr>\n",
       "    <tr>\n",
       "      <th>6006</th>\n",
       "      <td>9969</td>\n",
       "      <td>Gintama'</td>\n",
       "      <td>9.08</td>\n",
       "      <td>Action, Sci-Fi, Comedy, Historical, Parody, Sa...</td>\n",
       "      <td>Gintama Season 2</td>\n",
       "      <td>銀魂'</td>\n",
       "      <td>TV</td>\n",
       "      <td>51</td>\n",
       "      <td>Apr 4, 2011 to Mar 26, 2012</td>\n",
       "      <td>Spring 2011</td>\n",
       "      <td>TV Tokyo, Aniplex, Dentsu, Trinity Sound, Mira...</td>\n",
       "      <td>NaN</td>\n",
       "      <td>Sunrise</td>\n",
       "      <td>Manga</td>\n",
       "      <td>24 min. per ep.</td>\n",
       "      <td>PG-13 - Teens 13 or older</td>\n",
       "      <td>7.0</td>\n",
       "      <td>362</td>\n",
       "      <td>365579</td>\n",
       "      <td>6567</td>\n",
       "      <td>26492</td>\n",
       "      <td>190008</td>\n",
       "      <td>10615</td>\n",
       "      <td>7084</td>\n",
       "      <td>131380</td>\n",
       "      <td>74992.0</td>\n",
       "      <td>44740.0</td>\n",
       "      <td>24294.0</td>\n",
       "      <td>9584.0</td>\n",
       "      <td>3222.0</td>\n",
       "      <td>1655.0</td>\n",
       "      <td>694.0</td>\n",
       "      <td>338.0</td>\n",
       "      <td>437.0</td>\n",
       "      <td>2910.0</td>\n",
       "      <td>9969</td>\n",
       "      <td>Gintama Season 2</td>\n",
       "    </tr>\n",
       "    <tr>\n",
       "      <th>741</th>\n",
       "      <td>820</td>\n",
       "      <td>Ginga Eiyuu Densetsu</td>\n",
       "      <td>9.07</td>\n",
       "      <td>Military, Sci-Fi, Space, Drama</td>\n",
       "      <td>Legend of the Galactic Heroes</td>\n",
       "      <td>銀河英雄伝説</td>\n",
       "      <td>OVA</td>\n",
       "      <td>110</td>\n",
       "      <td>Jan 8, 1988 to Mar 17, 1997</td>\n",
       "      <td>NaN</td>\n",
       "      <td>Kitty Films, K-Factory</td>\n",
       "      <td>Sentai Filmworks</td>\n",
       "      <td>Artland, Magic Bus</td>\n",
       "      <td>Novel</td>\n",
       "      <td>26 min. per ep.</td>\n",
       "      <td>R - 17+ (violence &amp; profanity)</td>\n",
       "      <td>7.0</td>\n",
       "      <td>633</td>\n",
       "      <td>230168</td>\n",
       "      <td>13834</td>\n",
       "      <td>25968</td>\n",
       "      <td>52583</td>\n",
       "      <td>14911</td>\n",
       "      <td>5950</td>\n",
       "      <td>130756</td>\n",
       "      <td>30432.0</td>\n",
       "      <td>11497.0</td>\n",
       "      <td>7096.0</td>\n",
       "      <td>3577.0</td>\n",
       "      <td>1570.0</td>\n",
       "      <td>965.0</td>\n",
       "      <td>480.0</td>\n",
       "      <td>264.0</td>\n",
       "      <td>509.0</td>\n",
       "      <td>2265.0</td>\n",
       "      <td>820</td>\n",
       "      <td>Legend of the Galactic Heroes</td>\n",
       "    </tr>\n",
       "    <tr>\n",
       "      <th>7261</th>\n",
       "      <td>15417</td>\n",
       "      <td>Gintama': Enchousen</td>\n",
       "      <td>9.04</td>\n",
       "      <td>Action, Comedy, Historical, Parody, Samurai, S...</td>\n",
       "      <td>Gintama:Enchousen</td>\n",
       "      <td>銀魂' 延長戦</td>\n",
       "      <td>TV</td>\n",
       "      <td>13</td>\n",
       "      <td>Oct 4, 2012 to Mar 28, 2013</td>\n",
       "      <td>Fall 2012</td>\n",
       "      <td>TV Tokyo, Aniplex, Dentsu, Shueisha, Miracle Bus</td>\n",
       "      <td>NaN</td>\n",
       "      <td>Sunrise</td>\n",
       "      <td>Manga</td>\n",
       "      <td>24 min. per ep.</td>\n",
       "      <td>PG-13 - Teens 13 or older</td>\n",
       "      <td>9.0</td>\n",
       "      <td>660</td>\n",
       "      <td>222819</td>\n",
       "      <td>2586</td>\n",
       "      <td>7800</td>\n",
       "      <td>143353</td>\n",
       "      <td>2753</td>\n",
       "      <td>2012</td>\n",
       "      <td>66901</td>\n",
       "      <td>51383.0</td>\n",
       "      <td>32100.0</td>\n",
       "      <td>17753.0</td>\n",
       "      <td>6900.0</td>\n",
       "      <td>1968.0</td>\n",
       "      <td>867.0</td>\n",
       "      <td>303.0</td>\n",
       "      <td>184.0</td>\n",
       "      <td>145.0</td>\n",
       "      <td>2059.0</td>\n",
       "      <td>15417</td>\n",
       "      <td>Gintama:Enchousen</td>\n",
       "    </tr>\n",
       "    <tr>\n",
       "      <th>9886</th>\n",
       "      <td>28851</td>\n",
       "      <td>Koe no Katachi</td>\n",
       "      <td>9.0</td>\n",
       "      <td>Drama, School, Shounen</td>\n",
       "      <td>A Silent Voice</td>\n",
       "      <td>聲の形</td>\n",
       "      <td>Movie</td>\n",
       "      <td>1</td>\n",
       "      <td>Sep 17, 2016</td>\n",
       "      <td>NaN</td>\n",
       "      <td>Shochiku, Pony Canyon, Kodansha, ABC Animation...</td>\n",
       "      <td>Eleven Arts, NYAV Post</td>\n",
       "      <td>Kyoto Animation</td>\n",
       "      <td>Manga</td>\n",
       "      <td>2 hr. 10 min.</td>\n",
       "      <td>PG-13 - Teens 13 or older</td>\n",
       "      <td>11.0</td>\n",
       "      <td>28</td>\n",
       "      <td>1387607</td>\n",
       "      <td>62452</td>\n",
       "      <td>30379</td>\n",
       "      <td>1151644</td>\n",
       "      <td>4306</td>\n",
       "      <td>1949</td>\n",
       "      <td>199329</td>\n",
       "      <td>393684.0</td>\n",
       "      <td>295492.0</td>\n",
       "      <td>156604.0</td>\n",
       "      <td>61581.0</td>\n",
       "      <td>19228.0</td>\n",
       "      <td>7135.0</td>\n",
       "      <td>3108.0</td>\n",
       "      <td>1242.0</td>\n",
       "      <td>698.0</td>\n",
       "      <td>2071.0</td>\n",
       "      <td>28851</td>\n",
       "      <td>A Silent Voice</td>\n",
       "    </tr>\n",
       "  </tbody>\n",
       "</table>\n",
       "</div>"
      ],
      "text/plain": [
       "       MAL_ID                                  Name Score  \\\n",
       "3971     5114      Fullmetal Alchemist: Brotherhood  9.19   \n",
       "15926   40028  Shingeki no Kyojin: The Final Season  9.17   \n",
       "5683     9253                           Steins;Gate  9.11   \n",
       "14963   38524    Shingeki no Kyojin Season 3 Part 2   9.1   \n",
       "9913    28977                              Gintama°   9.1   \n",
       "6474    11061                Hunter x Hunter (2011)   9.1   \n",
       "6006     9969                              Gintama'  9.08   \n",
       "741       820                  Ginga Eiyuu Densetsu  9.07   \n",
       "7261    15417                   Gintama': Enchousen  9.04   \n",
       "9886    28851                        Koe no Katachi   9.0   \n",
       "\n",
       "                                                  Genres  \\\n",
       "3971   Action, Military, Adventure, Comedy, Drama, Ma...   \n",
       "15926  Action, Military, Mystery, Super Power, Drama,...   \n",
       "5683                                    Thriller, Sci-Fi   \n",
       "14963  Action, Drama, Fantasy, Military, Mystery, Sho...   \n",
       "9913   Action, Comedy, Historical, Parody, Samurai, S...   \n",
       "6474    Action, Adventure, Fantasy, Shounen, Super Power   \n",
       "6006   Action, Sci-Fi, Comedy, Historical, Parody, Sa...   \n",
       "741                       Military, Sci-Fi, Space, Drama   \n",
       "7261   Action, Comedy, Historical, Parody, Samurai, S...   \n",
       "9886                              Drama, School, Shounen   \n",
       "\n",
       "                          English name               Japanese name   Type  \\\n",
       "3971   Fullmetal Alchemist:Brotherhood  鋼の錬金術師 FULLMETAL ALCHEMIST     TV   \n",
       "15926     Attack on Titan Final Season      進撃の巨人 The Final Season     TV   \n",
       "5683                       Steins;Gate                 STEINS;GATE     TV   \n",
       "14963  Attack on Titan Season 3 Part 2        進撃の巨人 Season3 Part.2     TV   \n",
       "9913                  Gintama Season 4                         銀魂°     TV   \n",
       "6474                   Hunter x Hunter    HUNTER×HUNTER（ハンター×ハンター）     TV   \n",
       "6006                  Gintama Season 2                         銀魂'     TV   \n",
       "741      Legend of the Galactic Heroes                      銀河英雄伝説    OVA   \n",
       "7261                 Gintama:Enchousen                     銀魂' 延長戦     TV   \n",
       "9886                    A Silent Voice                         聲の形  Movie   \n",
       "\n",
       "      Episodes                        Aired    Premiered  \\\n",
       "3971        64   Apr 5, 2009 to Jul 4, 2010  Spring 2009   \n",
       "15926       16             Dec 7, 2020 to ?  Winter 2021   \n",
       "5683        24  Apr 6, 2011 to Sep 14, 2011  Spring 2011   \n",
       "14963       10  Apr 29, 2019 to Jul 1, 2019  Spring 2019   \n",
       "9913        51  Apr 8, 2015 to Mar 30, 2016  Spring 2015   \n",
       "6474       148  Oct 2, 2011 to Sep 24, 2014    Fall 2011   \n",
       "6006        51  Apr 4, 2011 to Mar 26, 2012  Spring 2011   \n",
       "741        110  Jan 8, 1988 to Mar 17, 1997          NaN   \n",
       "7261        13  Oct 4, 2012 to Mar 28, 2013    Fall 2012   \n",
       "9886         1                 Sep 17, 2016          NaN   \n",
       "\n",
       "                                               Producers  \\\n",
       "3971   Aniplex, Square Enix, Mainichi Broadcasting Sy...   \n",
       "15926  Production I.G, Dentsu, Mainichi Broadcasting ...   \n",
       "5683   Frontier Works, Media Factory, Movic, AT-X, Ka...   \n",
       "14963  Production I.G, Dentsu, Mainichi Broadcasting ...   \n",
       "9913                           TV Tokyo, Aniplex, Dentsu   \n",
       "6474            VAP, Nippon Television Network, Shueisha   \n",
       "6006   TV Tokyo, Aniplex, Dentsu, Trinity Sound, Mira...   \n",
       "741                               Kitty Films, K-Factory   \n",
       "7261    TV Tokyo, Aniplex, Dentsu, Shueisha, Miracle Bus   \n",
       "9886   Shochiku, Pony Canyon, Kodansha, ABC Animation...   \n",
       "\n",
       "                            Licensors                Studios        Source  \\\n",
       "3971   Funimation, Aniplex of America                  Bones         Manga   \n",
       "15926                      Funimation                  MAPPA         Manga   \n",
       "5683                       Funimation              White Fox  Visual novel   \n",
       "14963                      Funimation             Wit Studio         Manga   \n",
       "9913          Funimation, Crunchyroll  Bandai Namco Pictures         Manga   \n",
       "6474                        VIZ Media               Madhouse         Manga   \n",
       "6006                              NaN                Sunrise         Manga   \n",
       "741                  Sentai Filmworks     Artland, Magic Bus         Novel   \n",
       "7261                              NaN                Sunrise         Manga   \n",
       "9886           Eleven Arts, NYAV Post        Kyoto Animation         Manga   \n",
       "\n",
       "              Duration                          Rating Ranked  Popularity  \\\n",
       "3971   24 min. per ep.  R - 17+ (violence & profanity)    1.0           3   \n",
       "15926  23 min. per ep.  R - 17+ (violence & profanity)    2.0         119   \n",
       "5683   24 min. per ep.       PG-13 - Teens 13 or older    3.0           9   \n",
       "14963  23 min. per ep.  R - 17+ (violence & profanity)    4.0          63   \n",
       "9913   24 min. per ep.       PG-13 - Teens 13 or older    5.0         329   \n",
       "6474   23 min. per ep.       PG-13 - Teens 13 or older    6.0          12   \n",
       "6006   24 min. per ep.       PG-13 - Teens 13 or older    7.0         362   \n",
       "741    26 min. per ep.  R - 17+ (violence & profanity)    7.0         633   \n",
       "7261   24 min. per ep.       PG-13 - Teens 13 or older    9.0         660   \n",
       "9886     2 hr. 10 min.       PG-13 - Teens 13 or older   11.0          28   \n",
       "\n",
       "       Members  Favorites  Watching  Completed  On-Hold  Dropped  \\\n",
       "3971   2248456     183914    171871    1644938    75728    32456   \n",
       "15926   733260      44862    566239        553     6658     2090   \n",
       "5683   1771162     148452    114349    1134756    60926    35600   \n",
       "14963  1073626      40985     54607     906824     5533     3099   \n",
       "9913    404121      11868     48011     167130    16612    11472   \n",
       "6474   1673924     147274    227277    1094486    79587    31652   \n",
       "6006    365579       6567     26492     190008    10615     7084   \n",
       "741     230168      13834     25968      52583    14911     5950   \n",
       "7261    222819       2586      7800     143353     2753     2012   \n",
       "9886   1387607      62452     30379    1151644     4306     1949   \n",
       "\n",
       "       Plan to Watch  Score-10   Score-9   Score-8  Score-7  Score-6  Score-5  \\\n",
       "3971          323463  714811.0  401507.0  199160.0  70045.0  20210.0   9308.0   \n",
       "15926         157720  173154.0   63756.0   26016.0   8793.0   2674.0   1336.0   \n",
       "5683          425531  468504.0  275960.0  140914.0  57740.0  21375.0  11126.0   \n",
       "14963         103563  327290.0  239451.0  110481.0  33662.0   8365.0   2974.0   \n",
       "9913          160896   78918.0   37902.0   21360.0  10215.0   3898.0   2311.0   \n",
       "6474          240922  454000.0  304741.0  167331.0  65085.0  18241.0   7789.0   \n",
       "6006          131380   74992.0   44740.0   24294.0   9584.0   3222.0   1655.0   \n",
       "741           130756   30432.0   11497.0    7096.0   3577.0   1570.0    965.0   \n",
       "7261           66901   51383.0   32100.0   17753.0   6900.0   1968.0    867.0   \n",
       "9886          199329  393684.0  295492.0  156604.0  61581.0  19228.0   7135.0   \n",
       "\n",
       "      Score-4 Score-3 Score-2  Score-1  anime_id  \\\n",
       "3971   3222.0  1536.0  2162.0  16806.0      5114   \n",
       "15926   588.0   382.0   514.0  11061.0     40028   \n",
       "5683   5061.0  2292.0  1678.0   5255.0      9253   \n",
       "14963  1108.0   550.0   385.0   4169.0     38524   \n",
       "9913    952.0   648.0  1100.0   4508.0     28977   \n",
       "6474   2780.0  1243.0  1054.0   4602.0     11061   \n",
       "6006    694.0   338.0   437.0   2910.0      9969   \n",
       "741     480.0   264.0   509.0   2265.0       820   \n",
       "7261    303.0   184.0   145.0   2059.0     15417   \n",
       "9886   3108.0  1242.0   698.0   2071.0     28851   \n",
       "\n",
       "                           eng_version  \n",
       "3971   Fullmetal Alchemist:Brotherhood  \n",
       "15926     Attack on Titan Final Season  \n",
       "5683                       Steins;Gate  \n",
       "14963  Attack on Titan Season 3 Part 2  \n",
       "9913                  Gintama Season 4  \n",
       "6474                   Hunter x Hunter  \n",
       "6006                  Gintama Season 2  \n",
       "741      Legend of the Galactic Heroes  \n",
       "7261                 Gintama:Enchousen  \n",
       "9886                    A Silent Voice  "
      ]
     },
     "execution_count": 108,
     "metadata": {},
     "output_type": "execute_result"
    }
   ],
   "source": [
    "df.head(10)"
   ]
  },
  {
   "cell_type": "code",
   "execution_count": 109,
   "id": "3efe37ad",
   "metadata": {},
   "outputs": [],
   "source": [
    "df = df[[\"anime_id\",\"eng_version\",\"Score\",\"Genres\",\"Episodes\",\"Type\",\"Members\",\"Premiered\"]]"
   ]
  },
  {
   "cell_type": "code",
   "execution_count": 110,
   "id": "bffc591c",
   "metadata": {},
   "outputs": [
    {
     "data": {
      "text/plain": [
       "Index(['anime_id', 'eng_version', 'Score', 'Genres', 'Episodes', 'Type',\n",
       "       'Members', 'Premiered'],\n",
       "      dtype='object')"
      ]
     },
     "execution_count": 110,
     "metadata": {},
     "output_type": "execute_result"
    }
   ],
   "source": [
    "df.columns"
   ]
  },
  {
   "cell_type": "code",
   "execution_count": 111,
   "id": "27d5a3c7",
   "metadata": {},
   "outputs": [],
   "source": [
    "def get_anime_frame(anime,df):\n",
    "    if isinstance(anime, int):\n",
    "        return df[df[\"anime_id\"] == anime]\n",
    "    elif isinstance(anime, str):\n",
    "        return df[df[\"eng_version\"] == anime]"
   ]
  },
  {
   "cell_type": "code",
   "execution_count": 112,
   "id": "cc2d3c09",
   "metadata": {},
   "outputs": [
    {
     "data": {
      "text/html": [
       "<div>\n",
       "<style scoped>\n",
       "    .dataframe tbody tr th:only-of-type {\n",
       "        vertical-align: middle;\n",
       "    }\n",
       "\n",
       "    .dataframe tbody tr th {\n",
       "        vertical-align: top;\n",
       "    }\n",
       "\n",
       "    .dataframe thead th {\n",
       "        text-align: right;\n",
       "    }\n",
       "</style>\n",
       "<table border=\"1\" class=\"dataframe\">\n",
       "  <thead>\n",
       "    <tr style=\"text-align: right;\">\n",
       "      <th></th>\n",
       "      <th>anime_id</th>\n",
       "      <th>eng_version</th>\n",
       "      <th>Score</th>\n",
       "      <th>Genres</th>\n",
       "      <th>Episodes</th>\n",
       "      <th>Type</th>\n",
       "      <th>Members</th>\n",
       "      <th>Premiered</th>\n",
       "    </tr>\n",
       "  </thead>\n",
       "  <tbody>\n",
       "    <tr>\n",
       "      <th>15926</th>\n",
       "      <td>40028</td>\n",
       "      <td>Attack on Titan Final Season</td>\n",
       "      <td>9.17</td>\n",
       "      <td>Action, Military, Mystery, Super Power, Drama,...</td>\n",
       "      <td>16</td>\n",
       "      <td>TV</td>\n",
       "      <td>733260</td>\n",
       "      <td>Winter 2021</td>\n",
       "    </tr>\n",
       "  </tbody>\n",
       "</table>\n",
       "</div>"
      ],
      "text/plain": [
       "       anime_id                   eng_version Score  \\\n",
       "15926     40028  Attack on Titan Final Season  9.17   \n",
       "\n",
       "                                                  Genres Episodes Type  \\\n",
       "15926  Action, Military, Mystery, Super Power, Drama,...       16   TV   \n",
       "\n",
       "       Members    Premiered  \n",
       "15926   733260  Winter 2021  "
      ]
     },
     "execution_count": 112,
     "metadata": {},
     "output_type": "execute_result"
    }
   ],
   "source": [
    "get_anime_frame(40028,df)"
   ]
  },
  {
   "cell_type": "code",
   "execution_count": 113,
   "id": "5ab8294a",
   "metadata": {},
   "outputs": [
    {
     "data": {
      "text/html": [
       "<div>\n",
       "<style scoped>\n",
       "    .dataframe tbody tr th:only-of-type {\n",
       "        vertical-align: middle;\n",
       "    }\n",
       "\n",
       "    .dataframe tbody tr th {\n",
       "        vertical-align: top;\n",
       "    }\n",
       "\n",
       "    .dataframe thead th {\n",
       "        text-align: right;\n",
       "    }\n",
       "</style>\n",
       "<table border=\"1\" class=\"dataframe\">\n",
       "  <thead>\n",
       "    <tr style=\"text-align: right;\">\n",
       "      <th></th>\n",
       "      <th>anime_id</th>\n",
       "      <th>eng_version</th>\n",
       "      <th>Score</th>\n",
       "      <th>Genres</th>\n",
       "      <th>Episodes</th>\n",
       "      <th>Type</th>\n",
       "      <th>Members</th>\n",
       "      <th>Premiered</th>\n",
       "    </tr>\n",
       "  </thead>\n",
       "  <tbody>\n",
       "    <tr>\n",
       "      <th>5683</th>\n",
       "      <td>9253</td>\n",
       "      <td>Steins;Gate</td>\n",
       "      <td>9.11</td>\n",
       "      <td>Thriller, Sci-Fi</td>\n",
       "      <td>24</td>\n",
       "      <td>TV</td>\n",
       "      <td>1771162</td>\n",
       "      <td>Spring 2011</td>\n",
       "    </tr>\n",
       "  </tbody>\n",
       "</table>\n",
       "</div>"
      ],
      "text/plain": [
       "      anime_id  eng_version Score            Genres Episodes Type  Members  \\\n",
       "5683      9253  Steins;Gate  9.11  Thriller, Sci-Fi       24   TV  1771162   \n",
       "\n",
       "        Premiered  \n",
       "5683  Spring 2011  "
      ]
     },
     "execution_count": 113,
     "metadata": {},
     "output_type": "execute_result"
    }
   ],
   "source": [
    "get_anime_frame(\"Steins;Gate\",df)"
   ]
  },
  {
   "cell_type": "markdown",
   "id": "5a84deab",
   "metadata": {},
   "source": [
    "### ANIME WITH SYNOPSIS"
   ]
  },
  {
   "cell_type": "code",
   "execution_count": 116,
   "id": "d7c7db38",
   "metadata": {},
   "outputs": [],
   "source": [
    "cols = [\"MAL_ID\",\"Name\",\"Genres\",\"sypnopsis\"]"
   ]
  },
  {
   "cell_type": "code",
   "execution_count": 117,
   "id": "d376945d",
   "metadata": {},
   "outputs": [],
   "source": [
    "synopsis_df = pd.read_csv(INPUT_DIR + r\"\\anime_with_synopsis.csv\",low_memory=True,usecols=cols)"
   ]
  },
  {
   "cell_type": "code",
   "execution_count": 118,
   "id": "6b9cd3f1",
   "metadata": {},
   "outputs": [
    {
     "data": {
      "text/html": [
       "<div>\n",
       "<style scoped>\n",
       "    .dataframe tbody tr th:only-of-type {\n",
       "        vertical-align: middle;\n",
       "    }\n",
       "\n",
       "    .dataframe tbody tr th {\n",
       "        vertical-align: top;\n",
       "    }\n",
       "\n",
       "    .dataframe thead th {\n",
       "        text-align: right;\n",
       "    }\n",
       "</style>\n",
       "<table border=\"1\" class=\"dataframe\">\n",
       "  <thead>\n",
       "    <tr style=\"text-align: right;\">\n",
       "      <th></th>\n",
       "      <th>MAL_ID</th>\n",
       "      <th>Name</th>\n",
       "      <th>Genres</th>\n",
       "      <th>sypnopsis</th>\n",
       "    </tr>\n",
       "  </thead>\n",
       "  <tbody>\n",
       "    <tr>\n",
       "      <th>0</th>\n",
       "      <td>1</td>\n",
       "      <td>Cowboy Bebop</td>\n",
       "      <td>Action, Adventure, Comedy, Drama, Sci-Fi, Space</td>\n",
       "      <td>In the year 2071, humanity has colonized sever...</td>\n",
       "    </tr>\n",
       "  </tbody>\n",
       "</table>\n",
       "</div>"
      ],
      "text/plain": [
       "   MAL_ID          Name                                           Genres  \\\n",
       "0       1  Cowboy Bebop  Action, Adventure, Comedy, Drama, Sci-Fi, Space   \n",
       "\n",
       "                                           sypnopsis  \n",
       "0  In the year 2071, humanity has colonized sever...  "
      ]
     },
     "execution_count": 118,
     "metadata": {},
     "output_type": "execute_result"
    }
   ],
   "source": [
    "synopsis_df.head(1)"
   ]
  },
  {
   "cell_type": "code",
   "execution_count": 121,
   "id": "1545e164",
   "metadata": {},
   "outputs": [],
   "source": [
    "def get_synopsis(anime,df):\n",
    "    if isinstance(anime, int):\n",
    "        return df[df[\"MAL_ID\"] == anime][\"sypnopsis\"].values[0]\n",
    "    elif isinstance(anime, str):\n",
    "        return df[df[\"Name\"] == anime][\"sypnopsis\"].values[0]"
   ]
  },
  {
   "cell_type": "code",
   "execution_count": 125,
   "id": "b406228e",
   "metadata": {},
   "outputs": [
    {
     "data": {
      "text/plain": [
       "\"Gabi Braun and Falco Grice have been training their entire lives to inherit one of the seven titans under Marley's control and aid their nation in eradicating the Eldians on Paradis. However, just as all seems well for the two cadets, their peace is suddenly shaken by the arrival of Eren Yeager and the remaining members of the Survey Corps. Having finally reached the Yeager family basement and learned about the dark history surrounding the titans, the Survey Corps has at long last found the answer they so desperately fought to uncover. With the truth now in their hands, the group set out for the world beyond the walls. In Shingeki no Kyojin: The Final Season , two utterly different worlds collide as each party pursues its own agenda in the long-awaited conclusion to Paradis' fight for freedom.\""
      ]
     },
     "execution_count": 125,
     "metadata": {},
     "output_type": "execute_result"
    }
   ],
   "source": [
    "get_synopsis(40028,synopsis_df)"
   ]
  },
  {
   "cell_type": "code",
   "execution_count": 123,
   "id": "ef83c722",
   "metadata": {},
   "outputs": [
    {
     "data": {
      "text/plain": [
       "'The self-proclaimed mad scientist Rintarou Okabe rents out a room in a rickety old building in Akihabara, where he indulges himself in his hobby of inventing prospective \"future gadgets\" with fellow lab members: Mayuri Shiina, his air-headed childhood friend, and Hashida Itaru, a perverted hacker nicknamed \"Daru.\" The three pass the time by tinkering with their most promising contraption yet, a machine dubbed the \"Phone Microwave,\" which performs the strange function of morphing bananas into piles of green gel. Though miraculous in itself, the phenomenon doesn\\'t provide anything concrete in Okabe\\'s search for a scientific breakthrough; that is, until the lab members are spurred into action by a string of mysterious happenings before stumbling upon an unexpected success—the Phone Microwave can send emails to the past, altering the flow of history. Adapted from the critically acclaimed visual novel by 5pb. and Nitroplus, Steins;Gate takes Okabe through the depths of scientific theory and practicality. Forced across the diverging threads of past and present, Okabe must shoulder the burdens that come with holding the key to the realm of time.'"
      ]
     },
     "execution_count": 123,
     "metadata": {},
     "output_type": "execute_result"
    }
   ],
   "source": [
    "get_synopsis(\"Steins;Gate\",synopsis_df)"
   ]
  },
  {
   "cell_type": "markdown",
   "id": "0e7af413",
   "metadata": {},
   "source": [
    "### Contnet\\Iten Based Recommendation System"
   ]
  },
  {
   "cell_type": "code",
   "execution_count": 126,
   "id": "73ac0e03",
   "metadata": {},
   "outputs": [],
   "source": [
    "pd.set_option('display.max_colwidth', None)"
   ]
  },
  {
   "cell_type": "code",
   "execution_count": 127,
   "id": "8f036910",
   "metadata": {},
   "outputs": [
    {
     "data": {
      "text/html": [
       "<div>\n",
       "<style scoped>\n",
       "    .dataframe tbody tr th:only-of-type {\n",
       "        vertical-align: middle;\n",
       "    }\n",
       "\n",
       "    .dataframe tbody tr th {\n",
       "        vertical-align: top;\n",
       "    }\n",
       "\n",
       "    .dataframe thead th {\n",
       "        text-align: right;\n",
       "    }\n",
       "</style>\n",
       "<table border=\"1\" class=\"dataframe\">\n",
       "  <thead>\n",
       "    <tr style=\"text-align: right;\">\n",
       "      <th></th>\n",
       "      <th>MAL_ID</th>\n",
       "      <th>Name</th>\n",
       "      <th>Genres</th>\n",
       "      <th>sypnopsis</th>\n",
       "    </tr>\n",
       "  </thead>\n",
       "  <tbody>\n",
       "    <tr>\n",
       "      <th>0</th>\n",
       "      <td>1</td>\n",
       "      <td>Cowboy Bebop</td>\n",
       "      <td>Action, Adventure, Comedy, Drama, Sci-Fi, Space</td>\n",
       "      <td>In the year 2071, humanity has colonized several of the planets and moons of the solar system leaving the now uninhabitable surface of planet Earth behind. The Inter Solar System Police attempts to keep peace in the galaxy, aided in part by outlaw bounty hunters, referred to as \"Cowboys.\" The ragtag team aboard the spaceship Bebop are two such individuals. Mellow and carefree Spike Spiegel is balanced by his boisterous, pragmatic partner Jet Black as the pair makes a living chasing bounties and collecting rewards. Thrown off course by the addition of new members that they meet in their travels—Ein, a genetically engineered, highly intelligent Welsh Corgi; femme fatale Faye Valentine, an enigmatic trickster with memory loss; and the strange computer whiz kid Edward Wong—the crew embarks on thrilling adventures that unravel each member's dark and mysterious past little by little. Well-balanced with high density action and light-hearted comedy, Cowboy Bebop is a space Western classic and an homage to the smooth and improvised music it is named after.</td>\n",
       "    </tr>\n",
       "    <tr>\n",
       "      <th>1</th>\n",
       "      <td>5</td>\n",
       "      <td>Cowboy Bebop: Tengoku no Tobira</td>\n",
       "      <td>Action, Drama, Mystery, Sci-Fi, Space</td>\n",
       "      <td>other day, another bounty—such is the life of the often unlucky crew of the Bebop. However, this routine is interrupted when Faye, who is chasing a fairly worthless target on Mars, witnesses an oil tanker suddenly explode, causing mass hysteria. As casualties mount due to a strange disease spreading through the smoke from the blast, a whopping three hundred million woolong price is placed on the head of the supposed perpetrator. With lives at stake and a solution to their money problems in sight, the Bebop crew springs into action. Spike, Jet, Faye, and Edward, followed closely by Ein, split up to pursue different leads across Alba City. Through their individual investigations, they discover a cover-up scheme involving a pharmaceutical company, revealing a plot that reaches much further than the ragtag team of bounty hunters could have realized.</td>\n",
       "    </tr>\n",
       "    <tr>\n",
       "      <th>2</th>\n",
       "      <td>6</td>\n",
       "      <td>Trigun</td>\n",
       "      <td>Action, Sci-Fi, Adventure, Comedy, Drama, Shounen</td>\n",
       "      <td>Vash the Stampede is the man with a $$60,000,000,000 bounty on his head. The reason: he's a merciless villain who lays waste to all those that oppose him and flattens entire cities for fun, garnering him the title \"The Humanoid Typhoon.\" He leaves a trail of death and destruction wherever he goes, and anyone can count themselves dead if they so much as make eye contact—or so the rumors say. In actuality, Vash is a huge softie who claims to have never taken a life and avoids violence at all costs. With his crazy doughnut obsession and buffoonish attitude in tow, Vash traverses the wasteland of the planet Gunsmoke, all the while followed by two insurance agents, Meryl Stryfe and Milly Thompson, who attempt to minimize his impact on the public. But soon, their misadventures evolve into life-or-death situations as a group of legendary assassins are summoned to bring about suffering to the trio. Vash's agonizing past will be unraveled and his morality and principles pushed to the breaking point.</td>\n",
       "    </tr>\n",
       "    <tr>\n",
       "      <th>3</th>\n",
       "      <td>7</td>\n",
       "      <td>Witch Hunter Robin</td>\n",
       "      <td>Action, Mystery, Police, Supernatural, Drama, Magic</td>\n",
       "      <td>ches are individuals with special powers like ESP, telekinesis, mind control, etc. Robin, a 15-year-old craft user, arrives from Italy to Japan to work for an organization named STN Japan Division (STN-J) as a replacement for one of STN-J's witch hunters who was recently killed. Unlike other divisions of STN, STN-J tries to capture the witches alive in order to learn why and how they became witches in the first place. (Source: ANN)</td>\n",
       "    </tr>\n",
       "    <tr>\n",
       "      <th>4</th>\n",
       "      <td>8</td>\n",
       "      <td>Bouken Ou Beet</td>\n",
       "      <td>Adventure, Fantasy, Shounen, Supernatural</td>\n",
       "      <td>It is the dark century and the people are suffering under the rule of the devil, Vandel, who is able to manipulate monsters. The Vandel Busters are a group of people who hunt these devils, and among them, the Zenon Squad is known to be the strongest busters on the continent. A young boy, Beet, dreams of joining the Zenon Squad. However, one day, as a result of Beet's fault, the Zenon squad was defeated by the devil, Beltose. The five dying busters sacrificed their life power into their five weapons, Saiga. After giving their weapons to Beet, they passed away. Years have passed since then and the young Vandel Buster, Beet, begins his adventure to carry out the Zenon Squad's will to put an end to the dark century.</td>\n",
       "    </tr>\n",
       "  </tbody>\n",
       "</table>\n",
       "</div>"
      ],
      "text/plain": [
       "   MAL_ID                             Name  \\\n",
       "0       1                     Cowboy Bebop   \n",
       "1       5  Cowboy Bebop: Tengoku no Tobira   \n",
       "2       6                           Trigun   \n",
       "3       7               Witch Hunter Robin   \n",
       "4       8                   Bouken Ou Beet   \n",
       "\n",
       "                                                Genres  \\\n",
       "0      Action, Adventure, Comedy, Drama, Sci-Fi, Space   \n",
       "1                Action, Drama, Mystery, Sci-Fi, Space   \n",
       "2    Action, Sci-Fi, Adventure, Comedy, Drama, Shounen   \n",
       "3  Action, Mystery, Police, Supernatural, Drama, Magic   \n",
       "4            Adventure, Fantasy, Shounen, Supernatural   \n",
       "\n",
       "                                                                                                                                                                                                                                                                                                                                                                                                                                                                                                                                                                                                                                                                                                                                                                                                                                                                                                                                                                                                                                                                                                 sypnopsis  \n",
       "0  In the year 2071, humanity has colonized several of the planets and moons of the solar system leaving the now uninhabitable surface of planet Earth behind. The Inter Solar System Police attempts to keep peace in the galaxy, aided in part by outlaw bounty hunters, referred to as \"Cowboys.\" The ragtag team aboard the spaceship Bebop are two such individuals. Mellow and carefree Spike Spiegel is balanced by his boisterous, pragmatic partner Jet Black as the pair makes a living chasing bounties and collecting rewards. Thrown off course by the addition of new members that they meet in their travels—Ein, a genetically engineered, highly intelligent Welsh Corgi; femme fatale Faye Valentine, an enigmatic trickster with memory loss; and the strange computer whiz kid Edward Wong—the crew embarks on thrilling adventures that unravel each member's dark and mysterious past little by little. Well-balanced with high density action and light-hearted comedy, Cowboy Bebop is a space Western classic and an homage to the smooth and improvised music it is named after.  \n",
       "1                                                                                                                                                                                                                other day, another bounty—such is the life of the often unlucky crew of the Bebop. However, this routine is interrupted when Faye, who is chasing a fairly worthless target on Mars, witnesses an oil tanker suddenly explode, causing mass hysteria. As casualties mount due to a strange disease spreading through the smoke from the blast, a whopping three hundred million woolong price is placed on the head of the supposed perpetrator. With lives at stake and a solution to their money problems in sight, the Bebop crew springs into action. Spike, Jet, Faye, and Edward, followed closely by Ein, split up to pursue different leads across Alba City. Through their individual investigations, they discover a cover-up scheme involving a pharmaceutical company, revealing a plot that reaches much further than the ragtag team of bounty hunters could have realized.  \n",
       "2                                                            Vash the Stampede is the man with a $$60,000,000,000 bounty on his head. The reason: he's a merciless villain who lays waste to all those that oppose him and flattens entire cities for fun, garnering him the title \"The Humanoid Typhoon.\" He leaves a trail of death and destruction wherever he goes, and anyone can count themselves dead if they so much as make eye contact—or so the rumors say. In actuality, Vash is a huge softie who claims to have never taken a life and avoids violence at all costs. With his crazy doughnut obsession and buffoonish attitude in tow, Vash traverses the wasteland of the planet Gunsmoke, all the while followed by two insurance agents, Meryl Stryfe and Milly Thompson, who attempt to minimize his impact on the public. But soon, their misadventures evolve into life-or-death situations as a group of legendary assassins are summoned to bring about suffering to the trio. Vash's agonizing past will be unraveled and his morality and principles pushed to the breaking point.  \n",
       "3                                                                                                                                                                                                                                                                                                                                                                                                                                                                                                                                                                                                                                                      ches are individuals with special powers like ESP, telekinesis, mind control, etc. Robin, a 15-year-old craft user, arrives from Italy to Japan to work for an organization named STN Japan Division (STN-J) as a replacement for one of STN-J's witch hunters who was recently killed. Unlike other divisions of STN, STN-J tries to capture the witches alive in order to learn why and how they became witches in the first place. (Source: ANN)  \n",
       "4                                                                                                                                                                                                                                                                                                                                                        It is the dark century and the people are suffering under the rule of the devil, Vandel, who is able to manipulate monsters. The Vandel Busters are a group of people who hunt these devils, and among them, the Zenon Squad is known to be the strongest busters on the continent. A young boy, Beet, dreams of joining the Zenon Squad. However, one day, as a result of Beet's fault, the Zenon squad was defeated by the devil, Beltose. The five dying busters sacrificed their life power into their five weapons, Saiga. After giving their weapons to Beet, they passed away. Years have passed since then and the young Vandel Buster, Beet, begins his adventure to carry out the Zenon Squad's will to put an end to the dark century.  "
      ]
     },
     "execution_count": 127,
     "metadata": {},
     "output_type": "execute_result"
    }
   ],
   "source": [
    "synopsis_df.head()"
   ]
  },
  {
   "cell_type": "code",
   "execution_count": 131,
   "id": "1e7dbede",
   "metadata": {},
   "outputs": [
    {
     "data": {
      "text/plain": [
       "40028"
      ]
     },
     "execution_count": 131,
     "metadata": {},
     "output_type": "execute_result"
    }
   ],
   "source": [
    "get_anime_frame(40028,df)['anime_id'].values[0]"
   ]
  },
  {
   "cell_type": "code",
   "execution_count": 132,
   "id": "90786778",
   "metadata": {},
   "outputs": [
    {
     "data": {
      "text/plain": [
       "1666"
      ]
     },
     "execution_count": 132,
     "metadata": {},
     "output_type": "execute_result"
    }
   ],
   "source": [
    "anime2anime_encoded[40028]"
   ]
  },
  {
   "cell_type": "code",
   "execution_count": 133,
   "id": "95167bc3",
   "metadata": {},
   "outputs": [
    {
     "data": {
      "text/plain": [
       "array([-0.01108047,  0.16441683, -0.10822806, ...,  0.01866789,\n",
       "        0.01531918, -0.10212287], dtype=float32)"
      ]
     },
     "execution_count": 133,
     "metadata": {},
     "output_type": "execute_result"
    }
   ],
   "source": [
    "np.dot(anime_weights, anime_weights[1666])"
   ]
  },
  {
   "cell_type": "code",
   "execution_count": 134,
   "id": "5f663ed0",
   "metadata": {},
   "outputs": [
    {
     "data": {
      "text/plain": [
       "array([14176, 17537, 10470, ...,   230,  3453,  1666], dtype=int64)"
      ]
     },
     "execution_count": 134,
     "metadata": {},
     "output_type": "execute_result"
    }
   ],
   "source": [
    "np.argsort(np.dot(anime_weights, anime_weights[1666]))"
   ]
  },
  {
   "cell_type": "code",
   "execution_count": null,
   "id": "3a1095a5",
   "metadata": {},
   "outputs": [],
   "source": [
    "def find_similar_animes(name, anime_weights, anime2anime_encoded, anime2anime_decoded, df, synopsis_df, n=10, return_dist=False, neg=False):\n",
    "    \"\"\"\n",
    "    Find similar animes based on the given anime name.\n",
    "    Args:\n",
    "        name (str): The name of the anime to find similar animes for.\n",
    "        anime_weights (numpy.ndarray): The weights of the animes.\n",
    "        anime2anime_encoded (dict): A dictionary mapping anime names to their encoded values.\n",
    "        anime2anime_decoded (dict): A dictionary mapping encoded values back to anime names.\n",
    "        df (pandas.DataFrame): The DataFrame containing anime information.\n",
    "        synopsis_df (pandas.DataFrame): The DataFrame containing anime synopses.\n",
    "        n (int, optional): The number of similar animes to return. Defaults to 10.\n",
    "        return_dist (bool, optional): Whether to return distances. Defaults to False.\n",
    "        neg (bool, optional): Whether to return negative distances. Defaults to False.\n",
    "    Returns:\n",
    "        pandas.DataFrame: DataFrame containing similar anime information\n",
    "    \"\"\"\n",
    "    try:\n",
    "        # Get anime ID from name\n",
    "        anime_frame = get_anime_frame(name, df)\n",
    "        if anime_frame.empty:\n",
    "            print(f\"Error: Anime '{name}' not found in database\")\n",
    "            return None\n",
    "\n",
    "        index = anime_frame[\"anime_id\"].values[0] # type: ignore\n",
    "        encoded_index = anime2anime_encoded.get(index)\n",
    "        if encoded_index is None:\n",
    "            print(f\"Error: Anime ID {index} not found in encoded mapping\")\n",
    "            return None\n",
    "\n",
    "        # Calculate similarities\n",
    "        weights = anime_weights\n",
    "        dists = np.dot(weights, weights[encoded_index])\n",
    "        sorted_dists = np.argsort(dists)\n",
    "\n",
    "        n += 1\n",
    "        closest = sorted_dists[:n] if neg else sorted_dists[-n:]\n",
    "\n",
    "        print(f\"Anime closest to '{name}':\\n\")\n",
    "\n",
    "        if return_dist:\n",
    "            return dists, closest\n",
    "\n",
    "        # Build similarity array\n",
    "        SimilarityArr = []\n",
    "        for close in closest:\n",
    "            try:\n",
    "                decoded_id = anime2anime_decoded.get(close)\n",
    "                if decoded_id is None:\n",
    "                    continue\n",
    "\n",
    "                synopsis = get_synopsis(decoded_id, synopsis_df)\n",
    "                anime_frame = get_anime_frame(decoded_id, df)\n",
    "\n",
    "                if anime_frame.empty:\n",
    "                    continue\n",
    "\n",
    "                anime_name = anime_frame[\"eng_version\"].values[0] # type: ignore\n",
    "                genre = anime_frame[\"Genres\"].values[0] # type: ignore\n",
    "                similarity = dists[close]\n",
    "\n",
    "                SimilarityArr.append({\n",
    "                    \"anime_id\": decoded_id,\n",
    "                    \"anime_name\": anime_name,\n",
    "                    \"similarity\": similarity,\n",
    "                    \"synopsis\": synopsis,\n",
    "                    \"genre\": genre\n",
    "                })\n",
    "            except Exception as e:\n",
    "                print(f\"Warning: Error processing anime {decoded_id}: {str(e)}\")\n",
    "                continue\n",
    "\n",
    "        if not SimilarityArr:\n",
    "            print(\"Error: No similar animes found\")\n",
    "            return None\n",
    "\n",
    "        Frame = pd.DataFrame(SimilarityArr)\n",
    "        Frame = Frame.sort_values(by=[\"similarity\"], ascending=False)\n",
    "        return Frame[Frame[\"anime_id\"] != index].drop([\"anime_id\"], axis=1)\n",
    "\n",
    "    except Exception as e:\n",
    "        print(f\"Error: {str(e)}\")\n",
    "        return None"
   ]
  },
  {
   "cell_type": "code",
   "execution_count": 152,
   "id": "44fc9ed6",
   "metadata": {},
   "outputs": [
    {
     "name": "stdout",
     "output_type": "stream",
     "text": [
      "Anime closest to 'Dragon Ball Z':\n",
      "\n"
     ]
    },
    {
     "data": {
      "text/html": [
       "<div>\n",
       "<style scoped>\n",
       "    .dataframe tbody tr th:only-of-type {\n",
       "        vertical-align: middle;\n",
       "    }\n",
       "\n",
       "    .dataframe tbody tr th {\n",
       "        vertical-align: top;\n",
       "    }\n",
       "\n",
       "    .dataframe thead th {\n",
       "        text-align: right;\n",
       "    }\n",
       "</style>\n",
       "<table border=\"1\" class=\"dataframe\">\n",
       "  <thead>\n",
       "    <tr style=\"text-align: right;\">\n",
       "      <th></th>\n",
       "      <th>anime_name</th>\n",
       "      <th>similarity</th>\n",
       "      <th>synopsis</th>\n",
       "      <th>genre</th>\n",
       "    </tr>\n",
       "  </thead>\n",
       "  <tbody>\n",
       "    <tr>\n",
       "      <th>1</th>\n",
       "      <td>Code Geass:Lelouch of the Rebellion R2</td>\n",
       "      <td>0.959243</td>\n",
       "      <td>One year has passed since the Black Rebellion, a failed uprising against the Holy Britannian Empire led by the masked vigilante Zero, who is now missing. At a loss without their revolutionary leader, Area 11's resistance group—the Black Knights—find themselves too powerless to combat the brutality inflicted upon the Elevens by Britannia, which has increased significantly in order to crush any hope of a future revolt. Lelouch Lamperouge, having lost all memory of his double life, is living peacefully alongside his friends as a high school student at Ashford Academy. His former partner C.C., unable to accept this turn of events, takes it upon herself to remind him of his past purpose, hoping that the mastermind Zero will rise once again to finish what he started, in this thrilling conclusion to the series.</td>\n",
       "      <td>Action, Military, Sci-Fi, Super Power, Drama, Mecha</td>\n",
       "    </tr>\n",
       "    <tr>\n",
       "      <th>0</th>\n",
       "      <td>Code Geass:Lelouch of the Rebellion</td>\n",
       "      <td>0.954825</td>\n",
       "      <td>In the year 2010, the Holy Empire of Britannia is establishing itself as a dominant military nation, starting with the conquest of Japan. Renamed to Area 11 after its swift defeat, Japan has seen significant resistance against these tyrants in an attempt to regain independence. Lelouch Lamperouge, a Britannian student, unfortunately finds himself caught in a crossfire between the Britannian and the Area 11 rebel armed forces. He is able to escape, however, thanks to the timely appearance of a mysterious girl named C.C., who bestows upon him Geass, the \"Power of Kings.\" Realizing the vast potential of his newfound \"power of absolute obedience,\" Lelouch embarks upon a perilous journey as the masked vigilante known as Zero, leading a merciless onslaught against Britannia in order to get revenge once and for all.</td>\n",
       "      <td>Action, Military, Sci-Fi, Super Power, Drama, Mecha, School</td>\n",
       "    </tr>\n",
       "  </tbody>\n",
       "</table>\n",
       "</div>"
      ],
      "text/plain": [
       "                               anime_name  similarity  \\\n",
       "1  Code Geass:Lelouch of the Rebellion R2    0.959243   \n",
       "0     Code Geass:Lelouch of the Rebellion    0.954825   \n",
       "\n",
       "                                                                                                                                                                                                                                                                                                                                                                                                                                                                                                                                                                                                                                                                                                                                                                                                                                               synopsis  \\\n",
       "1       One year has passed since the Black Rebellion, a failed uprising against the Holy Britannian Empire led by the masked vigilante Zero, who is now missing. At a loss without their revolutionary leader, Area 11's resistance group—the Black Knights—find themselves too powerless to combat the brutality inflicted upon the Elevens by Britannia, which has increased significantly in order to crush any hope of a future revolt. Lelouch Lamperouge, having lost all memory of his double life, is living peacefully alongside his friends as a high school student at Ashford Academy. His former partner C.C., unable to accept this turn of events, takes it upon herself to remind him of his past purpose, hoping that the mastermind Zero will rise once again to finish what he started, in this thrilling conclusion to the series.   \n",
       "0  In the year 2010, the Holy Empire of Britannia is establishing itself as a dominant military nation, starting with the conquest of Japan. Renamed to Area 11 after its swift defeat, Japan has seen significant resistance against these tyrants in an attempt to regain independence. Lelouch Lamperouge, a Britannian student, unfortunately finds himself caught in a crossfire between the Britannian and the Area 11 rebel armed forces. He is able to escape, however, thanks to the timely appearance of a mysterious girl named C.C., who bestows upon him Geass, the \"Power of Kings.\" Realizing the vast potential of his newfound \"power of absolute obedience,\" Lelouch embarks upon a perilous journey as the masked vigilante known as Zero, leading a merciless onslaught against Britannia in order to get revenge once and for all.   \n",
       "\n",
       "                                                         genre  \n",
       "1          Action, Military, Sci-Fi, Super Power, Drama, Mecha  \n",
       "0  Action, Military, Sci-Fi, Super Power, Drama, Mecha, School  "
      ]
     },
     "execution_count": 152,
     "metadata": {},
     "output_type": "execute_result"
    }
   ],
   "source": [
    "find_similar_animes(\"Dragon Ball Z\",anime_weights,\n",
    "                    anime2anime_encoded,anime2anime_decoded,\n",
    "                    df,synopsis_df,n=2,return_dist=False,neg=False)"
   ]
  },
  {
   "cell_type": "code",
   "execution_count": null,
   "id": "7810852f",
   "metadata": {},
   "outputs": [],
   "source": []
  }
 ],
 "metadata": {
  "kernelspec": {
   "display_name": "TFENV",
   "language": "python",
   "name": "python3"
  },
  "language_info": {
   "codemirror_mode": {
    "name": "ipython",
    "version": 3
   },
   "file_extension": ".py",
   "mimetype": "text/x-python",
   "name": "python",
   "nbconvert_exporter": "python",
   "pygments_lexer": "ipython3",
   "version": "3.10.16"
  }
 },
 "nbformat": 4,
 "nbformat_minor": 5
}
